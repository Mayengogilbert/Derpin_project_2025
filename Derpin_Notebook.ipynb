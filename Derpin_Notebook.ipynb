{
 "cells": [
  {
   "cell_type": "markdown",
   "id": "ee5ae45f",
   "metadata": {},
   "source": [
    "###Working With FS CORS data"
   ]
  },
  {
   "cell_type": "code",
   "execution_count": null,
   "id": "addef57a",
   "metadata": {},
   "outputs": [],
   "source": [
    "import pandas as pd\n",
    "import numpy as np\n",
    "import matplotlib.pyplot as plt\n",
    "import plotly.express as px\n",
    "import plotly.graph_objects as g\n",
    "import warnings\n",
    "warnings.filterwarnings(\"ignore\")"
   ]
  },
  {
   "cell_type": "code",
   "execution_count": 2,
   "id": "d03fa6ca",
   "metadata": {},
   "outputs": [
    {
     "name": "stdout",
     "output_type": "stream",
     "text": [
      "Missing files skipped: []\n"
     ]
    }
   ],
   "source": [
    "# List of Nutrients - Load all CSVs, set a consistent 'district' column,\n",
    "# rename the last (value) column to the requested descriptive name, and drop duplicates by district\n",
    "import glob\n",
    "import os\n",
    "\n",
    "csv_files = [\n",
    "    'nutrients/Calcium.csv', 'nutrients/Foliate.csv', 'nutrients/Iron.csv', 'nutrients/Kilocaleries.csv',\n",
    "    'nutrients/Proteins.csv', 'nutrients/Riboflavin.csv', 'nutrients/Thiamin.csv', 'nutrients/VitaminA.csv', 'nutrients/VitaminB12.csv',\n",
    "    'nutrients/VitaminB6.csv', 'nutrients/VitaminC.csv', 'nutrients/Zinc.csv',\n",
    "]\n",
    "\n",
    "# Units (as provided) and pretty display names where needed\n",
    "units = {\n",
    "    'Calcium': 'mg',\n",
    "    'Foliate': 'mcg',      # assuming Foliate -> Folate\n",
    "    'Niacin': 'mg',        # not present in csv_files; kept for completeness\n",
    "    'Proteins': 'mg',\n",
    "    'Kilocaleries': 'kcal',\n",
    "    'Iron': 'mg',\n",
    "    'Riboflavin': 'mg',\n",
    "    'Thiamin': 'mg',\n",
    "    'VitaminA': 'mcg',\n",
    "    'VitaminB12': 'mcg',\n",
    "    'VitaminB6': 'mg',\n",
    "    'VitaminC': 'mg',\n",
    "    'Zinc': 'mg',\n",
    "}\n",
    "\n",
    "# Friendly display names (for nicer column titles)\n",
    "display_name = {\n",
    "    'Calcium': 'Calcium',\n",
    "    'Foliate': 'Folate',\n",
    "    'Proteins': 'Proteins',\n",
    "    'Kilocaleries': 'Kilocaleries',\n",
    "    'Iron': 'Iron',\n",
    "    'Riboflavin': 'Riboflavin',\n",
    "    'Thiamin': 'Thiamin',\n",
    "    'VitaminA': 'Vitamin A',\n",
    "    'VitaminB12': 'Vitamin B12',\n",
    "    'VitaminB6': 'Vitamin B6',\n",
    "    'VitaminC': 'Vitamin C',\n",
    "    'Zinc': 'Zinc',\n",
    "}\n",
    "\n",
    "nutrient_dfs = {}\n",
    "missing_files = []\n",
    "for file in csv_files:\n",
    "    if not os.path.exists(file):\n",
    "        missing_files.append(file)\n",
    "        continue\n",
    "    df = pd.read_csv(file)\n",
    "    # Ensure we have at least two columns (district and value)\n",
    "    if df.shape[1] < 2:\n",
    "        nutrient_dfs[file.replace('.csv','')] = df\n",
    "        continue\n",
    "    # Robustly identify the district column: prefer columns with 'name' or 'district' in the header, else use column index 1\n",
    "    district_col = None\n",
    "    for col in df.columns:\n",
    "        lname = str(col).lower()\n",
    "        if 'district' in lname or 'name' in lname:\n",
    "            district_col = col\n",
    "            break\n",
    "    if district_col is None and len(df.columns) >= 2:\n",
    "        district_col = df.columns[1]\n",
    "    # Rename the district column to 'district'\n",
    "    if district_col is not None:\n",
    "        df = df.rename(columns={district_col: 'district'})\n",
    "    # Build last-column display name based on filename base\n",
    "    base = file.replace('.csv','')\n",
    "    pretty = display_name.get(base, base)\n",
    "    unit = units.get(base, '')\n",
    "    # Compose the requested column name\n",
    "    value_col_new = f'Average Consumption adequacy of {pretty} ({unit})' if unit else f'Average Consumption adequacy of {pretty}'\n",
    "    # Rename the last column (whatever it currently is) to the composed name\n",
    "    last_col = df.columns[-1]\n",
    "    # If last_col is already 'district' (rare), try to find the numeric/value column instead\n",
    "    if last_col == 'district' and df.shape[1] >= 2:\n",
    "        last_col = df.columns[-1]  # fallback - keeps being last\n",
    "    df = df.rename(columns={last_col: value_col_new})\n",
    "    # Drop duplicates by district if the district column exists\n",
    "    if 'district' in df.columns:\n",
    "        df = df.drop_duplicates(subset=['district']).reset_index(drop=True)\n",
    "    nutrient_dfs[base] = df\n",
    "\n",
    "# Report missing files (if any) and show a sample head for verification\n",
    "print('Missing files skipped:', missing_files)\n",
    "if 'Calcium' in nutrient_dfs:\n",
    "    nutrient_dfs['Calcium'].head()"
   ]
  },
  {
   "cell_type": "code",
   "execution_count": 3,
   "id": "71eeeb54",
   "metadata": {},
   "outputs": [
    {
     "name": "stdout",
     "output_type": "stream",
     "text": [
      "DataFrame for nutrients/Calcium:\n",
      "   Category  district  Average Consumption adequacy of nutrients/Calcium\n",
      "0         0      ABIM                                              66.99\n",
      "1         2  ADJUMANI                                              22.91\n",
      "2         3     AGAGO                                              64.41\n",
      "3         5  ALEBTONG                                              63.12\n",
      "4         7  AMOLATAR                                              45.78\n",
      "DataFrame for nutrients/Foliate:\n",
      "   Category  district  Average Consumption adequacy of nutrients/Foliate\n",
      "0         0      ABIM                                              84.26\n",
      "1         2  ADJUMANI                                              67.69\n",
      "2         3     AGAGO                                              97.48\n",
      "3         5  ALEBTONG                                              93.26\n",
      "4         7  AMOLATAR                                              98.96\n",
      "DataFrame for nutrients/Iron:\n",
      "   Category  district  Average Consumption adequacy of nutrients/Iron\n",
      "0         0      ABIM                                           75.84\n",
      "1         2  ADJUMANI                                           41.55\n",
      "2         3     AGAGO                                           76.41\n",
      "3         5  ALEBTONG                                           58.17\n",
      "4         7  AMOLATAR                                           54.54\n",
      "DataFrame for nutrients/Kilocaleries:\n",
      "   Category  district  Average Consumption adequacy of nutrients/Kilocaleries\n",
      "0         0      ABIM                                              69.68     \n",
      "1         2  ADJUMANI                                              67.63     \n",
      "2         3     AGAGO                                              76.30     \n",
      "3         5  ALEBTONG                                              70.04     \n",
      "4         7  AMOLATAR                                              80.77     \n",
      "DataFrame for nutrients/Proteins:\n",
      "   Category  district  Average Consumption adequacy of nutrients/Proteins\n",
      "0         0      ABIM                                              81.61 \n",
      "1         2  ADJUMANI                                             100.00 \n",
      "2         3     AGAGO                                              89.48 \n",
      "3         5  ALEBTONG                                              67.80 \n",
      "4         7  AMOLATAR                                              64.28 \n",
      "DataFrame for nutrients/Riboflavin:\n",
      "   Category  district  Average Consumption adequacy of nutrients/Riboflavin\n",
      "0         0      ABIM                                              64.11   \n",
      "1         2  ADJUMANI                                              55.10   \n",
      "2         3     AGAGO                                              86.58   \n",
      "3         5  ALEBTONG                                              67.91   \n",
      "4         7  AMOLATAR                                              65.99   \n",
      "DataFrame for nutrients/Thiamin:\n",
      "   Category  district  Average Consumption adequacy of nutrients/Thiamin\n",
      "0         0      ABIM                                              86.52\n",
      "1         2  ADJUMANI                                              98.38\n",
      "2         3     AGAGO                                              90.74\n",
      "3         5  ALEBTONG                                              84.71\n",
      "4         7  AMOLATAR                                              91.42\n",
      "DataFrame for nutrients/VitaminA:\n",
      "   Category  district  Average Consumption adequacy of nutrients/VitaminA\n",
      "0         0      ABIM                                              87.13 \n",
      "1         2  ADJUMANI                                              95.76 \n",
      "2         3     AGAGO                                              96.13 \n",
      "3         5  ALEBTONG                                              87.76 \n",
      "4         7  AMOLATAR                                              87.75 \n",
      "DataFrame for nutrients/VitaminB12:\n",
      "   Category  district  Average Consumption adequacy of nutrients/VitaminB12\n",
      "0         0      ABIM                                              31.12   \n",
      "1         2  ADJUMANI                                             100.00   \n",
      "2         3     AGAGO                                              71.50   \n",
      "3         5  ALEBTONG                                              36.47   \n",
      "4         7  AMOLATAR                                              42.76   \n",
      "DataFrame for nutrients/VitaminB6:\n",
      "   Category  district  Average Consumption adequacy of nutrients/VitaminB6\n",
      "0         0      ABIM                                              85.43  \n",
      "1         2  ADJUMANI                                             100.00  \n",
      "2         3     AGAGO                                              96.51  \n",
      "3         5  ALEBTONG                                              90.96  \n",
      "4         7  AMOLATAR                                              99.06  \n",
      "DataFrame for nutrients/VitaminC:\n",
      "   Category  district  Average Consumption adequacy of nutrients/VitaminC\n",
      "0         0      ABIM                                              92.35 \n",
      "1         2  ADJUMANI                                              94.15 \n",
      "2         3     AGAGO                                             100.00 \n",
      "3         5  ALEBTONG                                             100.00 \n",
      "4         7  AMOLATAR                                              99.34 \n",
      "DataFrame for nutrients/Zinc:\n",
      "   Category  district  Average Consumption adequacy of nutrients/Zinc\n",
      "0         0      ABIM                                           70.86\n",
      "1         2  ADJUMANI                                           63.57\n",
      "2         3     AGAGO                                           86.78\n",
      "3         5  ALEBTONG                                           62.15\n",
      "4         7  AMOLATAR                                           55.55\n"
     ]
    }
   ],
   "source": [
    "#Obtaining dataframes\n",
    "for df_name, df in nutrient_dfs.items():\n",
    "    print(f\"DataFrame for {df_name}:\")\n",
    "    print(df.head())"
   ]
  },
  {
   "cell_type": "code",
   "execution_count": 4,
   "id": "72b39f58",
   "metadata": {},
   "outputs": [
    {
     "name": "stdout",
     "output_type": "stream",
     "text": [
      "DataFrames found for merge: ['nutrients/Calcium', 'nutrients/Foliate', 'nutrients/Iron', 'nutrients/Kilocaleries', 'nutrients/Proteins', 'nutrients/Riboflavin', 'nutrients/Thiamin', 'nutrients/VitaminA', 'nutrients/VitaminB12', 'nutrients/VitaminB6', 'nutrients/VitaminC', 'nutrients/Zinc']\n"
     ]
    },
    {
     "name": "stdout",
     "output_type": "stream",
     "text": [
      "Merged shape: (122, 13)\n"
     ]
    }
   ],
   "source": [
    "# Merge safe: reduce each dataframe to ['district', '<nutrient_value>'] where the value column is detected robustly\n",
    "valid_dfs = {k: v for k, v in nutrient_dfs.items() if isinstance(v, pd.DataFrame) and 'district' in v.columns}\n",
    "print('DataFrames found for merge:', list(valid_dfs.keys()))\n",
    "\n",
    "if not valid_dfs:\n",
    "    print('No valid DataFrames with a \"district\" column available to merge.')\n",
    "else:\n",
    "    cleaned = {}\n",
    "    for name, df in valid_dfs.items():\n",
    "        # columns except 'district'\n",
    "        other_cols = [c for c in df.columns if c != 'district']\n",
    "        if not other_cols:\n",
    "            print(f'Skipping {name}: no value column found')\n",
    "            continue\n",
    "        # Prefer a column containing the 'Average Consumption adequacy' phrase\n",
    "        val_col = None\n",
    "        for c in other_cols:\n",
    "            if 'Average Consumption adequacy' in str(c):\n",
    "                val_col = c\n",
    "                break\n",
    "        # Fallback to numeric columns\n",
    "        if val_col is None:\n",
    "            numeric_cols = df.select_dtypes(include=[np.number]).columns.tolist()\n",
    "            numeric_cols = [c for c in numeric_cols if c != 'district']\n",
    "            if numeric_cols:\n",
    "                val_col = numeric_cols[0]\n",
    "        # Final fallback: last non-district column\n",
    "        if val_col is None:\n",
    "            val_col = other_cols[-1]\n",
    "        # Compose a clean, unique column name for this nutrient\n",
    "        pretty = display_name.get(name, name)\n",
    "        unit = units.get(name, '')\n",
    "        new_col = f'Average Consumption adequacy of {pretty} ({unit})' if unit else f'Average Consumption adequacy of {pretty}'\n",
    "        # Select and rename\n",
    "        cleaned_df = df[['district', val_col]].copy()\n",
    "        cleaned_df = cleaned_df.rename(columns={val_col: new_col})\n",
    "        # Drop duplicates by district\n",
    "        cleaned_df = cleaned_df.drop_duplicates(subset=['district']).reset_index(drop=True)\n",
    "        cleaned[name] = cleaned_df\n",
    "    # Now merge all cleaned dfs on 'district'\n",
    "    from functools import reduce\n",
    "    dfs_to_merge = list(cleaned.values())\n",
    "    if not dfs_to_merge:\n",
    "        print('No cleaned DataFrames to merge')\n",
    "    else:\n",
    "        merged_nutrients = reduce(lambda left, right: pd.merge(left, right, on='district', how='outer'), dfs_to_merge)\n",
    "        merged_nutrients = merged_nutrients.sort_values('district').reset_index(drop=True)\n",
    "        nutrient_dfs['merged_by_district'] = merged_nutrients\n",
    "        print('Merged shape:', merged_nutrients.shape)\n",
    "        merged_nutrients.head()"
   ]
  },
  {
   "cell_type": "code",
   "execution_count": 5,
   "id": "581772bc",
   "metadata": {},
   "outputs": [
    {
     "data": {
      "text/html": [
       "<div>\n",
       "<style scoped>\n",
       "    .dataframe tbody tr th:only-of-type {\n",
       "        vertical-align: middle;\n",
       "    }\n",
       "\n",
       "    .dataframe tbody tr th {\n",
       "        vertical-align: top;\n",
       "    }\n",
       "\n",
       "    .dataframe thead th {\n",
       "        text-align: right;\n",
       "    }\n",
       "</style>\n",
       "<table border=\"1\" class=\"dataframe\">\n",
       "  <thead>\n",
       "    <tr style=\"text-align: right;\">\n",
       "      <th></th>\n",
       "      <th>district</th>\n",
       "      <th>Average Consumption adequacy of nutrients/Calcium</th>\n",
       "      <th>Average Consumption adequacy of nutrients/Foliate</th>\n",
       "      <th>Average Consumption adequacy of nutrients/Iron</th>\n",
       "      <th>Average Consumption adequacy of nutrients/Kilocaleries</th>\n",
       "      <th>Average Consumption adequacy of nutrients/Proteins</th>\n",
       "      <th>Average Consumption adequacy of nutrients/Riboflavin</th>\n",
       "      <th>Average Consumption adequacy of nutrients/Thiamin</th>\n",
       "      <th>Average Consumption adequacy of nutrients/VitaminA</th>\n",
       "      <th>Average Consumption adequacy of nutrients/VitaminB12</th>\n",
       "      <th>Average Consumption adequacy of nutrients/VitaminB6</th>\n",
       "      <th>Average Consumption adequacy of nutrients/VitaminC</th>\n",
       "      <th>Average Consumption adequacy of nutrients/Zinc</th>\n",
       "    </tr>\n",
       "  </thead>\n",
       "  <tbody>\n",
       "    <tr>\n",
       "      <th>0</th>\n",
       "      <td>ABIM</td>\n",
       "      <td>66.99</td>\n",
       "      <td>84.26</td>\n",
       "      <td>75.84</td>\n",
       "      <td>69.68</td>\n",
       "      <td>81.61</td>\n",
       "      <td>64.11</td>\n",
       "      <td>86.52</td>\n",
       "      <td>87.13</td>\n",
       "      <td>31.12</td>\n",
       "      <td>85.43</td>\n",
       "      <td>92.35</td>\n",
       "      <td>70.86</td>\n",
       "    </tr>\n",
       "    <tr>\n",
       "      <th>1</th>\n",
       "      <td>ADJUMANI</td>\n",
       "      <td>22.91</td>\n",
       "      <td>67.69</td>\n",
       "      <td>41.55</td>\n",
       "      <td>67.63</td>\n",
       "      <td>100.00</td>\n",
       "      <td>55.10</td>\n",
       "      <td>98.38</td>\n",
       "      <td>95.76</td>\n",
       "      <td>100.00</td>\n",
       "      <td>100.00</td>\n",
       "      <td>94.15</td>\n",
       "      <td>63.57</td>\n",
       "    </tr>\n",
       "    <tr>\n",
       "      <th>2</th>\n",
       "      <td>AGAGO</td>\n",
       "      <td>64.41</td>\n",
       "      <td>97.48</td>\n",
       "      <td>76.41</td>\n",
       "      <td>76.30</td>\n",
       "      <td>89.48</td>\n",
       "      <td>86.58</td>\n",
       "      <td>90.74</td>\n",
       "      <td>96.13</td>\n",
       "      <td>71.50</td>\n",
       "      <td>96.51</td>\n",
       "      <td>100.00</td>\n",
       "      <td>86.78</td>\n",
       "    </tr>\n",
       "    <tr>\n",
       "      <th>3</th>\n",
       "      <td>ALEBTONG</td>\n",
       "      <td>63.12</td>\n",
       "      <td>93.26</td>\n",
       "      <td>58.17</td>\n",
       "      <td>70.04</td>\n",
       "      <td>67.80</td>\n",
       "      <td>67.91</td>\n",
       "      <td>84.71</td>\n",
       "      <td>87.76</td>\n",
       "      <td>36.47</td>\n",
       "      <td>90.96</td>\n",
       "      <td>100.00</td>\n",
       "      <td>62.15</td>\n",
       "    </tr>\n",
       "    <tr>\n",
       "      <th>4</th>\n",
       "      <td>AMOLATAR</td>\n",
       "      <td>45.78</td>\n",
       "      <td>98.96</td>\n",
       "      <td>54.54</td>\n",
       "      <td>80.77</td>\n",
       "      <td>64.28</td>\n",
       "      <td>65.99</td>\n",
       "      <td>91.42</td>\n",
       "      <td>87.75</td>\n",
       "      <td>42.76</td>\n",
       "      <td>99.06</td>\n",
       "      <td>99.34</td>\n",
       "      <td>55.55</td>\n",
       "    </tr>\n",
       "    <tr>\n",
       "      <th>...</th>\n",
       "      <td>...</td>\n",
       "      <td>...</td>\n",
       "      <td>...</td>\n",
       "      <td>...</td>\n",
       "      <td>...</td>\n",
       "      <td>...</td>\n",
       "      <td>...</td>\n",
       "      <td>...</td>\n",
       "      <td>...</td>\n",
       "      <td>...</td>\n",
       "      <td>...</td>\n",
       "      <td>...</td>\n",
       "      <td>...</td>\n",
       "    </tr>\n",
       "    <tr>\n",
       "      <th>117</th>\n",
       "      <td>SSEMBABULE</td>\n",
       "      <td>69.75</td>\n",
       "      <td>98.65</td>\n",
       "      <td>70.40</td>\n",
       "      <td>88.81</td>\n",
       "      <td>89.47</td>\n",
       "      <td>86.86</td>\n",
       "      <td>92.35</td>\n",
       "      <td>85.88</td>\n",
       "      <td>45.22</td>\n",
       "      <td>100.00</td>\n",
       "      <td>100.00</td>\n",
       "      <td>78.24</td>\n",
       "    </tr>\n",
       "    <tr>\n",
       "      <th>118</th>\n",
       "      <td>TORORO</td>\n",
       "      <td>80.38</td>\n",
       "      <td>95.82</td>\n",
       "      <td>77.85</td>\n",
       "      <td>88.52</td>\n",
       "      <td>86.77</td>\n",
       "      <td>88.55</td>\n",
       "      <td>91.63</td>\n",
       "      <td>91.24</td>\n",
       "      <td>59.60</td>\n",
       "      <td>96.21</td>\n",
       "      <td>97.68</td>\n",
       "      <td>79.34</td>\n",
       "    </tr>\n",
       "    <tr>\n",
       "      <th>119</th>\n",
       "      <td>WAKISO</td>\n",
       "      <td>66.90</td>\n",
       "      <td>97.66</td>\n",
       "      <td>69.73</td>\n",
       "      <td>87.04</td>\n",
       "      <td>90.80</td>\n",
       "      <td>85.33</td>\n",
       "      <td>92.06</td>\n",
       "      <td>90.45</td>\n",
       "      <td>73.56</td>\n",
       "      <td>97.97</td>\n",
       "      <td>95.90</td>\n",
       "      <td>76.03</td>\n",
       "    </tr>\n",
       "    <tr>\n",
       "      <th>120</th>\n",
       "      <td>YUMBE</td>\n",
       "      <td>42.23</td>\n",
       "      <td>85.98</td>\n",
       "      <td>40.99</td>\n",
       "      <td>53.85</td>\n",
       "      <td>56.82</td>\n",
       "      <td>57.40</td>\n",
       "      <td>59.70</td>\n",
       "      <td>59.95</td>\n",
       "      <td>42.80</td>\n",
       "      <td>64.98</td>\n",
       "      <td>82.97</td>\n",
       "      <td>46.29</td>\n",
       "    </tr>\n",
       "    <tr>\n",
       "      <th>121</th>\n",
       "      <td>ZOMBO</td>\n",
       "      <td>59.63</td>\n",
       "      <td>98.82</td>\n",
       "      <td>68.51</td>\n",
       "      <td>88.29</td>\n",
       "      <td>86.13</td>\n",
       "      <td>84.39</td>\n",
       "      <td>88.36</td>\n",
       "      <td>91.51</td>\n",
       "      <td>93.58</td>\n",
       "      <td>96.26</td>\n",
       "      <td>98.56</td>\n",
       "      <td>80.26</td>\n",
       "    </tr>\n",
       "  </tbody>\n",
       "</table>\n",
       "<p>122 rows × 13 columns</p>\n",
       "</div>"
      ],
      "text/plain": [
       "       district  Average Consumption adequacy of nutrients/Calcium  \\\n",
       "0          ABIM                                              66.99   \n",
       "1      ADJUMANI                                              22.91   \n",
       "2         AGAGO                                              64.41   \n",
       "3      ALEBTONG                                              63.12   \n",
       "4      AMOLATAR                                              45.78   \n",
       "..          ...                                                ...   \n",
       "117  SSEMBABULE                                              69.75   \n",
       "118      TORORO                                              80.38   \n",
       "119      WAKISO                                              66.90   \n",
       "120       YUMBE                                              42.23   \n",
       "121       ZOMBO                                              59.63   \n",
       "\n",
       "     Average Consumption adequacy of nutrients/Foliate  \\\n",
       "0                                                84.26   \n",
       "1                                                67.69   \n",
       "2                                                97.48   \n",
       "3                                                93.26   \n",
       "4                                                98.96   \n",
       "..                                                 ...   \n",
       "117                                              98.65   \n",
       "118                                              95.82   \n",
       "119                                              97.66   \n",
       "120                                              85.98   \n",
       "121                                              98.82   \n",
       "\n",
       "     Average Consumption adequacy of nutrients/Iron  \\\n",
       "0                                             75.84   \n",
       "1                                             41.55   \n",
       "2                                             76.41   \n",
       "3                                             58.17   \n",
       "4                                             54.54   \n",
       "..                                              ...   \n",
       "117                                           70.40   \n",
       "118                                           77.85   \n",
       "119                                           69.73   \n",
       "120                                           40.99   \n",
       "121                                           68.51   \n",
       "\n",
       "     Average Consumption adequacy of nutrients/Kilocaleries  \\\n",
       "0                                                69.68        \n",
       "1                                                67.63        \n",
       "2                                                76.30        \n",
       "3                                                70.04        \n",
       "4                                                80.77        \n",
       "..                                                 ...        \n",
       "117                                              88.81        \n",
       "118                                              88.52        \n",
       "119                                              87.04        \n",
       "120                                              53.85        \n",
       "121                                              88.29        \n",
       "\n",
       "     Average Consumption adequacy of nutrients/Proteins  \\\n",
       "0                                                81.61    \n",
       "1                                               100.00    \n",
       "2                                                89.48    \n",
       "3                                                67.80    \n",
       "4                                                64.28    \n",
       "..                                                 ...    \n",
       "117                                              89.47    \n",
       "118                                              86.77    \n",
       "119                                              90.80    \n",
       "120                                              56.82    \n",
       "121                                              86.13    \n",
       "\n",
       "     Average Consumption adequacy of nutrients/Riboflavin  \\\n",
       "0                                                64.11      \n",
       "1                                                55.10      \n",
       "2                                                86.58      \n",
       "3                                                67.91      \n",
       "4                                                65.99      \n",
       "..                                                 ...      \n",
       "117                                              86.86      \n",
       "118                                              88.55      \n",
       "119                                              85.33      \n",
       "120                                              57.40      \n",
       "121                                              84.39      \n",
       "\n",
       "     Average Consumption adequacy of nutrients/Thiamin  \\\n",
       "0                                                86.52   \n",
       "1                                                98.38   \n",
       "2                                                90.74   \n",
       "3                                                84.71   \n",
       "4                                                91.42   \n",
       "..                                                 ...   \n",
       "117                                              92.35   \n",
       "118                                              91.63   \n",
       "119                                              92.06   \n",
       "120                                              59.70   \n",
       "121                                              88.36   \n",
       "\n",
       "     Average Consumption adequacy of nutrients/VitaminA  \\\n",
       "0                                                87.13    \n",
       "1                                                95.76    \n",
       "2                                                96.13    \n",
       "3                                                87.76    \n",
       "4                                                87.75    \n",
       "..                                                 ...    \n",
       "117                                              85.88    \n",
       "118                                              91.24    \n",
       "119                                              90.45    \n",
       "120                                              59.95    \n",
       "121                                              91.51    \n",
       "\n",
       "     Average Consumption adequacy of nutrients/VitaminB12  \\\n",
       "0                                                31.12      \n",
       "1                                               100.00      \n",
       "2                                                71.50      \n",
       "3                                                36.47      \n",
       "4                                                42.76      \n",
       "..                                                 ...      \n",
       "117                                              45.22      \n",
       "118                                              59.60      \n",
       "119                                              73.56      \n",
       "120                                              42.80      \n",
       "121                                              93.58      \n",
       "\n",
       "     Average Consumption adequacy of nutrients/VitaminB6  \\\n",
       "0                                                85.43     \n",
       "1                                               100.00     \n",
       "2                                                96.51     \n",
       "3                                                90.96     \n",
       "4                                                99.06     \n",
       "..                                                 ...     \n",
       "117                                             100.00     \n",
       "118                                              96.21     \n",
       "119                                              97.97     \n",
       "120                                              64.98     \n",
       "121                                              96.26     \n",
       "\n",
       "     Average Consumption adequacy of nutrients/VitaminC  \\\n",
       "0                                                92.35    \n",
       "1                                                94.15    \n",
       "2                                               100.00    \n",
       "3                                               100.00    \n",
       "4                                                99.34    \n",
       "..                                                 ...    \n",
       "117                                             100.00    \n",
       "118                                              97.68    \n",
       "119                                              95.90    \n",
       "120                                              82.97    \n",
       "121                                              98.56    \n",
       "\n",
       "     Average Consumption adequacy of nutrients/Zinc  \n",
       "0                                             70.86  \n",
       "1                                             63.57  \n",
       "2                                             86.78  \n",
       "3                                             62.15  \n",
       "4                                             55.55  \n",
       "..                                              ...  \n",
       "117                                           78.24  \n",
       "118                                           79.34  \n",
       "119                                           76.03  \n",
       "120                                           46.29  \n",
       "121                                           80.26  \n",
       "\n",
       "[122 rows x 13 columns]"
      ]
     },
     "execution_count": 5,
     "metadata": {},
     "output_type": "execute_result"
    }
   ],
   "source": [
    "merged_nutrients"
   ]
  },
  {
   "cell_type": "markdown",
   "id": "fdd2e5a4",
   "metadata": {},
   "source": [
    "Average Consumption adequacy = (average in take of Nutrients / recommended intake of Nutrients )* 100"
   ]
  },
  {
   "cell_type": "code",
   "execution_count": 6,
   "id": "82c2dce6",
   "metadata": {},
   "outputs": [
    {
     "data": {
      "text/plain": [
       "district                                                  0\n",
       "Average Consumption adequacy of nutrients/Calcium         0\n",
       "Average Consumption adequacy of nutrients/Foliate         0\n",
       "Average Consumption adequacy of nutrients/Iron            0\n",
       "Average Consumption adequacy of nutrients/Kilocaleries    0\n",
       "Average Consumption adequacy of nutrients/Proteins        0\n",
       "Average Consumption adequacy of nutrients/Riboflavin      0\n",
       "Average Consumption adequacy of nutrients/Thiamin         0\n",
       "Average Consumption adequacy of nutrients/VitaminA        0\n",
       "Average Consumption adequacy of nutrients/VitaminB12      0\n",
       "Average Consumption adequacy of nutrients/VitaminB6       0\n",
       "Average Consumption adequacy of nutrients/VitaminC        0\n",
       "Average Consumption adequacy of nutrients/Zinc            0\n",
       "dtype: int64"
      ]
     },
     "execution_count": 6,
     "metadata": {},
     "output_type": "execute_result"
    }
   ],
   "source": [
    "merged_nutrients.isna().sum()"
   ]
  },
  {
   "cell_type": "code",
   "execution_count": 7,
   "id": "5a68a29a",
   "metadata": {},
   "outputs": [],
   "source": [
    "merged_nutrients.to_csv('merged_nutrients.csv', index=False)"
   ]
  },
  {
   "cell_type": "code",
   "execution_count": 8,
   "id": "41713956",
   "metadata": {},
   "outputs": [
    {
     "data": {
      "text/plain": [
       "np.int64(0)"
      ]
     },
     "execution_count": 8,
     "metadata": {},
     "output_type": "execute_result"
    }
   ],
   "source": [
    "merged_nutrients.duplicated().sum()"
   ]
  },
  {
   "cell_type": "code",
   "execution_count": 9,
   "id": "72068708",
   "metadata": {},
   "outputs": [],
   "source": [
    "merged_nutrients.rename(columns={'Average Consumption adequacy of Kilocaleries (kcal)': 'Consumption adequacy of Kilocaleries (kcal)'}, inplace=True)"
   ]
  },
  {
   "cell_type": "code",
   "execution_count": 10,
   "id": "e8028d1f",
   "metadata": {},
   "outputs": [
    {
     "data": {
      "text/html": [
       "<div>\n",
       "<style scoped>\n",
       "    .dataframe tbody tr th:only-of-type {\n",
       "        vertical-align: middle;\n",
       "    }\n",
       "\n",
       "    .dataframe tbody tr th {\n",
       "        vertical-align: top;\n",
       "    }\n",
       "\n",
       "    .dataframe thead th {\n",
       "        text-align: right;\n",
       "    }\n",
       "</style>\n",
       "<table border=\"1\" class=\"dataframe\">\n",
       "  <thead>\n",
       "    <tr style=\"text-align: right;\">\n",
       "      <th></th>\n",
       "      <th>district</th>\n",
       "      <th>Average Consumption adequacy of nutrients/Calcium</th>\n",
       "      <th>Average Consumption adequacy of nutrients/Foliate</th>\n",
       "      <th>Average Consumption adequacy of nutrients/Iron</th>\n",
       "      <th>Average Consumption adequacy of nutrients/Kilocaleries</th>\n",
       "      <th>Average Consumption adequacy of nutrients/Proteins</th>\n",
       "      <th>Average Consumption adequacy of nutrients/Riboflavin</th>\n",
       "      <th>Average Consumption adequacy of nutrients/Thiamin</th>\n",
       "      <th>Average Consumption adequacy of nutrients/VitaminA</th>\n",
       "      <th>Average Consumption adequacy of nutrients/VitaminB12</th>\n",
       "      <th>Average Consumption adequacy of nutrients/VitaminB6</th>\n",
       "      <th>Average Consumption adequacy of nutrients/VitaminC</th>\n",
       "      <th>Average Consumption adequacy of nutrients/Zinc</th>\n",
       "    </tr>\n",
       "  </thead>\n",
       "  <tbody>\n",
       "    <tr>\n",
       "      <th>0</th>\n",
       "      <td>ABIM</td>\n",
       "      <td>66.99</td>\n",
       "      <td>84.26</td>\n",
       "      <td>75.84</td>\n",
       "      <td>69.68</td>\n",
       "      <td>81.61</td>\n",
       "      <td>64.11</td>\n",
       "      <td>86.52</td>\n",
       "      <td>87.13</td>\n",
       "      <td>31.12</td>\n",
       "      <td>85.43</td>\n",
       "      <td>92.35</td>\n",
       "      <td>70.86</td>\n",
       "    </tr>\n",
       "    <tr>\n",
       "      <th>1</th>\n",
       "      <td>ADJUMANI</td>\n",
       "      <td>22.91</td>\n",
       "      <td>67.69</td>\n",
       "      <td>41.55</td>\n",
       "      <td>67.63</td>\n",
       "      <td>100.00</td>\n",
       "      <td>55.10</td>\n",
       "      <td>98.38</td>\n",
       "      <td>95.76</td>\n",
       "      <td>100.00</td>\n",
       "      <td>100.00</td>\n",
       "      <td>94.15</td>\n",
       "      <td>63.57</td>\n",
       "    </tr>\n",
       "    <tr>\n",
       "      <th>2</th>\n",
       "      <td>AGAGO</td>\n",
       "      <td>64.41</td>\n",
       "      <td>97.48</td>\n",
       "      <td>76.41</td>\n",
       "      <td>76.30</td>\n",
       "      <td>89.48</td>\n",
       "      <td>86.58</td>\n",
       "      <td>90.74</td>\n",
       "      <td>96.13</td>\n",
       "      <td>71.50</td>\n",
       "      <td>96.51</td>\n",
       "      <td>100.00</td>\n",
       "      <td>86.78</td>\n",
       "    </tr>\n",
       "    <tr>\n",
       "      <th>3</th>\n",
       "      <td>ALEBTONG</td>\n",
       "      <td>63.12</td>\n",
       "      <td>93.26</td>\n",
       "      <td>58.17</td>\n",
       "      <td>70.04</td>\n",
       "      <td>67.80</td>\n",
       "      <td>67.91</td>\n",
       "      <td>84.71</td>\n",
       "      <td>87.76</td>\n",
       "      <td>36.47</td>\n",
       "      <td>90.96</td>\n",
       "      <td>100.00</td>\n",
       "      <td>62.15</td>\n",
       "    </tr>\n",
       "    <tr>\n",
       "      <th>4</th>\n",
       "      <td>AMOLATAR</td>\n",
       "      <td>45.78</td>\n",
       "      <td>98.96</td>\n",
       "      <td>54.54</td>\n",
       "      <td>80.77</td>\n",
       "      <td>64.28</td>\n",
       "      <td>65.99</td>\n",
       "      <td>91.42</td>\n",
       "      <td>87.75</td>\n",
       "      <td>42.76</td>\n",
       "      <td>99.06</td>\n",
       "      <td>99.34</td>\n",
       "      <td>55.55</td>\n",
       "    </tr>\n",
       "    <tr>\n",
       "      <th>...</th>\n",
       "      <td>...</td>\n",
       "      <td>...</td>\n",
       "      <td>...</td>\n",
       "      <td>...</td>\n",
       "      <td>...</td>\n",
       "      <td>...</td>\n",
       "      <td>...</td>\n",
       "      <td>...</td>\n",
       "      <td>...</td>\n",
       "      <td>...</td>\n",
       "      <td>...</td>\n",
       "      <td>...</td>\n",
       "      <td>...</td>\n",
       "    </tr>\n",
       "    <tr>\n",
       "      <th>117</th>\n",
       "      <td>SSEMBABULE</td>\n",
       "      <td>69.75</td>\n",
       "      <td>98.65</td>\n",
       "      <td>70.40</td>\n",
       "      <td>88.81</td>\n",
       "      <td>89.47</td>\n",
       "      <td>86.86</td>\n",
       "      <td>92.35</td>\n",
       "      <td>85.88</td>\n",
       "      <td>45.22</td>\n",
       "      <td>100.00</td>\n",
       "      <td>100.00</td>\n",
       "      <td>78.24</td>\n",
       "    </tr>\n",
       "    <tr>\n",
       "      <th>118</th>\n",
       "      <td>TORORO</td>\n",
       "      <td>80.38</td>\n",
       "      <td>95.82</td>\n",
       "      <td>77.85</td>\n",
       "      <td>88.52</td>\n",
       "      <td>86.77</td>\n",
       "      <td>88.55</td>\n",
       "      <td>91.63</td>\n",
       "      <td>91.24</td>\n",
       "      <td>59.60</td>\n",
       "      <td>96.21</td>\n",
       "      <td>97.68</td>\n",
       "      <td>79.34</td>\n",
       "    </tr>\n",
       "    <tr>\n",
       "      <th>119</th>\n",
       "      <td>WAKISO</td>\n",
       "      <td>66.90</td>\n",
       "      <td>97.66</td>\n",
       "      <td>69.73</td>\n",
       "      <td>87.04</td>\n",
       "      <td>90.80</td>\n",
       "      <td>85.33</td>\n",
       "      <td>92.06</td>\n",
       "      <td>90.45</td>\n",
       "      <td>73.56</td>\n",
       "      <td>97.97</td>\n",
       "      <td>95.90</td>\n",
       "      <td>76.03</td>\n",
       "    </tr>\n",
       "    <tr>\n",
       "      <th>120</th>\n",
       "      <td>YUMBE</td>\n",
       "      <td>42.23</td>\n",
       "      <td>85.98</td>\n",
       "      <td>40.99</td>\n",
       "      <td>53.85</td>\n",
       "      <td>56.82</td>\n",
       "      <td>57.40</td>\n",
       "      <td>59.70</td>\n",
       "      <td>59.95</td>\n",
       "      <td>42.80</td>\n",
       "      <td>64.98</td>\n",
       "      <td>82.97</td>\n",
       "      <td>46.29</td>\n",
       "    </tr>\n",
       "    <tr>\n",
       "      <th>121</th>\n",
       "      <td>ZOMBO</td>\n",
       "      <td>59.63</td>\n",
       "      <td>98.82</td>\n",
       "      <td>68.51</td>\n",
       "      <td>88.29</td>\n",
       "      <td>86.13</td>\n",
       "      <td>84.39</td>\n",
       "      <td>88.36</td>\n",
       "      <td>91.51</td>\n",
       "      <td>93.58</td>\n",
       "      <td>96.26</td>\n",
       "      <td>98.56</td>\n",
       "      <td>80.26</td>\n",
       "    </tr>\n",
       "  </tbody>\n",
       "</table>\n",
       "<p>122 rows × 13 columns</p>\n",
       "</div>"
      ],
      "text/plain": [
       "       district  Average Consumption adequacy of nutrients/Calcium  \\\n",
       "0          ABIM                                              66.99   \n",
       "1      ADJUMANI                                              22.91   \n",
       "2         AGAGO                                              64.41   \n",
       "3      ALEBTONG                                              63.12   \n",
       "4      AMOLATAR                                              45.78   \n",
       "..          ...                                                ...   \n",
       "117  SSEMBABULE                                              69.75   \n",
       "118      TORORO                                              80.38   \n",
       "119      WAKISO                                              66.90   \n",
       "120       YUMBE                                              42.23   \n",
       "121       ZOMBO                                              59.63   \n",
       "\n",
       "     Average Consumption adequacy of nutrients/Foliate  \\\n",
       "0                                                84.26   \n",
       "1                                                67.69   \n",
       "2                                                97.48   \n",
       "3                                                93.26   \n",
       "4                                                98.96   \n",
       "..                                                 ...   \n",
       "117                                              98.65   \n",
       "118                                              95.82   \n",
       "119                                              97.66   \n",
       "120                                              85.98   \n",
       "121                                              98.82   \n",
       "\n",
       "     Average Consumption adequacy of nutrients/Iron  \\\n",
       "0                                             75.84   \n",
       "1                                             41.55   \n",
       "2                                             76.41   \n",
       "3                                             58.17   \n",
       "4                                             54.54   \n",
       "..                                              ...   \n",
       "117                                           70.40   \n",
       "118                                           77.85   \n",
       "119                                           69.73   \n",
       "120                                           40.99   \n",
       "121                                           68.51   \n",
       "\n",
       "     Average Consumption adequacy of nutrients/Kilocaleries  \\\n",
       "0                                                69.68        \n",
       "1                                                67.63        \n",
       "2                                                76.30        \n",
       "3                                                70.04        \n",
       "4                                                80.77        \n",
       "..                                                 ...        \n",
       "117                                              88.81        \n",
       "118                                              88.52        \n",
       "119                                              87.04        \n",
       "120                                              53.85        \n",
       "121                                              88.29        \n",
       "\n",
       "     Average Consumption adequacy of nutrients/Proteins  \\\n",
       "0                                                81.61    \n",
       "1                                               100.00    \n",
       "2                                                89.48    \n",
       "3                                                67.80    \n",
       "4                                                64.28    \n",
       "..                                                 ...    \n",
       "117                                              89.47    \n",
       "118                                              86.77    \n",
       "119                                              90.80    \n",
       "120                                              56.82    \n",
       "121                                              86.13    \n",
       "\n",
       "     Average Consumption adequacy of nutrients/Riboflavin  \\\n",
       "0                                                64.11      \n",
       "1                                                55.10      \n",
       "2                                                86.58      \n",
       "3                                                67.91      \n",
       "4                                                65.99      \n",
       "..                                                 ...      \n",
       "117                                              86.86      \n",
       "118                                              88.55      \n",
       "119                                              85.33      \n",
       "120                                              57.40      \n",
       "121                                              84.39      \n",
       "\n",
       "     Average Consumption adequacy of nutrients/Thiamin  \\\n",
       "0                                                86.52   \n",
       "1                                                98.38   \n",
       "2                                                90.74   \n",
       "3                                                84.71   \n",
       "4                                                91.42   \n",
       "..                                                 ...   \n",
       "117                                              92.35   \n",
       "118                                              91.63   \n",
       "119                                              92.06   \n",
       "120                                              59.70   \n",
       "121                                              88.36   \n",
       "\n",
       "     Average Consumption adequacy of nutrients/VitaminA  \\\n",
       "0                                                87.13    \n",
       "1                                                95.76    \n",
       "2                                                96.13    \n",
       "3                                                87.76    \n",
       "4                                                87.75    \n",
       "..                                                 ...    \n",
       "117                                              85.88    \n",
       "118                                              91.24    \n",
       "119                                              90.45    \n",
       "120                                              59.95    \n",
       "121                                              91.51    \n",
       "\n",
       "     Average Consumption adequacy of nutrients/VitaminB12  \\\n",
       "0                                                31.12      \n",
       "1                                               100.00      \n",
       "2                                                71.50      \n",
       "3                                                36.47      \n",
       "4                                                42.76      \n",
       "..                                                 ...      \n",
       "117                                              45.22      \n",
       "118                                              59.60      \n",
       "119                                              73.56      \n",
       "120                                              42.80      \n",
       "121                                              93.58      \n",
       "\n",
       "     Average Consumption adequacy of nutrients/VitaminB6  \\\n",
       "0                                                85.43     \n",
       "1                                               100.00     \n",
       "2                                                96.51     \n",
       "3                                                90.96     \n",
       "4                                                99.06     \n",
       "..                                                 ...     \n",
       "117                                             100.00     \n",
       "118                                              96.21     \n",
       "119                                              97.97     \n",
       "120                                              64.98     \n",
       "121                                              96.26     \n",
       "\n",
       "     Average Consumption adequacy of nutrients/VitaminC  \\\n",
       "0                                                92.35    \n",
       "1                                                94.15    \n",
       "2                                               100.00    \n",
       "3                                               100.00    \n",
       "4                                                99.34    \n",
       "..                                                 ...    \n",
       "117                                             100.00    \n",
       "118                                              97.68    \n",
       "119                                              95.90    \n",
       "120                                              82.97    \n",
       "121                                              98.56    \n",
       "\n",
       "     Average Consumption adequacy of nutrients/Zinc  \n",
       "0                                             70.86  \n",
       "1                                             63.57  \n",
       "2                                             86.78  \n",
       "3                                             62.15  \n",
       "4                                             55.55  \n",
       "..                                              ...  \n",
       "117                                           78.24  \n",
       "118                                           79.34  \n",
       "119                                           76.03  \n",
       "120                                           46.29  \n",
       "121                                           80.26  \n",
       "\n",
       "[122 rows x 13 columns]"
      ]
     },
     "execution_count": 10,
     "metadata": {},
     "output_type": "execute_result"
    }
   ],
   "source": [
    "merged_nutrients"
   ]
  },
  {
   "cell_type": "code",
   "execution_count": 11,
   "id": "936cb5f3",
   "metadata": {},
   "outputs": [
    {
     "data": {
      "text/plain": [
       "Index(['district', 'Average Consumption adequacy of nutrients/Calcium',\n",
       "       'Average Consumption adequacy of nutrients/Foliate',\n",
       "       'Average Consumption adequacy of nutrients/Iron',\n",
       "       'Average Consumption adequacy of nutrients/Kilocaleries',\n",
       "       'Average Consumption adequacy of nutrients/Proteins',\n",
       "       'Average Consumption adequacy of nutrients/Riboflavin',\n",
       "       'Average Consumption adequacy of nutrients/Thiamin',\n",
       "       'Average Consumption adequacy of nutrients/VitaminA',\n",
       "       'Average Consumption adequacy of nutrients/VitaminB12',\n",
       "       'Average Consumption adequacy of nutrients/VitaminB6',\n",
       "       'Average Consumption adequacy of nutrients/VitaminC',\n",
       "       'Average Consumption adequacy of nutrients/Zinc'],\n",
       "      dtype='object')"
      ]
     },
     "execution_count": 11,
     "metadata": {},
     "output_type": "execute_result"
    }
   ],
   "source": [
    "merged_nutrients.columns"
   ]
  },
  {
   "cell_type": "code",
   "execution_count": 12,
   "id": "b3319672",
   "metadata": {},
   "outputs": [
    {
     "data": {
      "text/html": [
       "<div>\n",
       "<style scoped>\n",
       "    .dataframe tbody tr th:only-of-type {\n",
       "        vertical-align: middle;\n",
       "    }\n",
       "\n",
       "    .dataframe tbody tr th {\n",
       "        vertical-align: top;\n",
       "    }\n",
       "\n",
       "    .dataframe thead th {\n",
       "        text-align: right;\n",
       "    }\n",
       "</style>\n",
       "<table border=\"1\" class=\"dataframe\">\n",
       "  <thead>\n",
       "    <tr style=\"text-align: right;\">\n",
       "      <th></th>\n",
       "      <th>Average Consumption adequacy of nutrients/Calcium</th>\n",
       "      <th>Average Consumption adequacy of nutrients/Foliate</th>\n",
       "      <th>Average Consumption adequacy of nutrients/Iron</th>\n",
       "      <th>Average Consumption adequacy of nutrients/Kilocaleries</th>\n",
       "      <th>Average Consumption adequacy of nutrients/Proteins</th>\n",
       "      <th>Average Consumption adequacy of nutrients/Riboflavin</th>\n",
       "      <th>Average Consumption adequacy of nutrients/Thiamin</th>\n",
       "      <th>Average Consumption adequacy of nutrients/VitaminA</th>\n",
       "      <th>Average Consumption adequacy of nutrients/VitaminB12</th>\n",
       "      <th>Average Consumption adequacy of nutrients/VitaminB6</th>\n",
       "      <th>Average Consumption adequacy of nutrients/VitaminC</th>\n",
       "      <th>Average Consumption adequacy of nutrients/Zinc</th>\n",
       "    </tr>\n",
       "  </thead>\n",
       "  <tbody>\n",
       "    <tr>\n",
       "      <th>count</th>\n",
       "      <td>122.000000</td>\n",
       "      <td>122.000000</td>\n",
       "      <td>122.000000</td>\n",
       "      <td>122.000000</td>\n",
       "      <td>122.000000</td>\n",
       "      <td>122.000000</td>\n",
       "      <td>122.000000</td>\n",
       "      <td>122.000000</td>\n",
       "      <td>122.000000</td>\n",
       "      <td>122.000000</td>\n",
       "      <td>122.000000</td>\n",
       "      <td>122.000000</td>\n",
       "    </tr>\n",
       "    <tr>\n",
       "      <th>mean</th>\n",
       "      <td>63.692459</td>\n",
       "      <td>95.475902</td>\n",
       "      <td>67.644918</td>\n",
       "      <td>80.608443</td>\n",
       "      <td>86.999754</td>\n",
       "      <td>80.492213</td>\n",
       "      <td>88.938443</td>\n",
       "      <td>87.189918</td>\n",
       "      <td>62.075164</td>\n",
       "      <td>94.095820</td>\n",
       "      <td>97.696967</td>\n",
       "      <td>72.828525</td>\n",
       "    </tr>\n",
       "    <tr>\n",
       "      <th>std</th>\n",
       "      <td>14.202116</td>\n",
       "      <td>6.265266</td>\n",
       "      <td>13.290775</td>\n",
       "      <td>12.813223</td>\n",
       "      <td>10.904073</td>\n",
       "      <td>12.476063</td>\n",
       "      <td>10.005677</td>\n",
       "      <td>11.393070</td>\n",
       "      <td>22.607859</td>\n",
       "      <td>8.840154</td>\n",
       "      <td>8.823652</td>\n",
       "      <td>12.111087</td>\n",
       "    </tr>\n",
       "    <tr>\n",
       "      <th>min</th>\n",
       "      <td>7.870000</td>\n",
       "      <td>67.690000</td>\n",
       "      <td>24.890000</td>\n",
       "      <td>43.440000</td>\n",
       "      <td>55.900000</td>\n",
       "      <td>36.800000</td>\n",
       "      <td>56.990000</td>\n",
       "      <td>17.760000</td>\n",
       "      <td>0.000000</td>\n",
       "      <td>59.620000</td>\n",
       "      <td>9.050000</td>\n",
       "      <td>32.600000</td>\n",
       "    </tr>\n",
       "    <tr>\n",
       "      <th>25%</th>\n",
       "      <td>56.895000</td>\n",
       "      <td>93.935000</td>\n",
       "      <td>58.977500</td>\n",
       "      <td>74.057500</td>\n",
       "      <td>81.770000</td>\n",
       "      <td>73.487500</td>\n",
       "      <td>84.790000</td>\n",
       "      <td>83.917500</td>\n",
       "      <td>47.065000</td>\n",
       "      <td>91.180000</td>\n",
       "      <td>98.020000</td>\n",
       "      <td>66.120000</td>\n",
       "    </tr>\n",
       "    <tr>\n",
       "      <th>50%</th>\n",
       "      <td>65.750000</td>\n",
       "      <td>97.780000</td>\n",
       "      <td>67.155000</td>\n",
       "      <td>83.445000</td>\n",
       "      <td>88.650000</td>\n",
       "      <td>82.875000</td>\n",
       "      <td>91.085000</td>\n",
       "      <td>88.085000</td>\n",
       "      <td>62.145000</td>\n",
       "      <td>98.490000</td>\n",
       "      <td>100.000000</td>\n",
       "      <td>73.520000</td>\n",
       "    </tr>\n",
       "    <tr>\n",
       "      <th>75%</th>\n",
       "      <td>71.752500</td>\n",
       "      <td>100.000000</td>\n",
       "      <td>76.860000</td>\n",
       "      <td>89.372500</td>\n",
       "      <td>96.155000</td>\n",
       "      <td>88.572500</td>\n",
       "      <td>96.245000</td>\n",
       "      <td>94.495000</td>\n",
       "      <td>79.197500</td>\n",
       "      <td>100.000000</td>\n",
       "      <td>100.000000</td>\n",
       "      <td>81.525000</td>\n",
       "    </tr>\n",
       "    <tr>\n",
       "      <th>max</th>\n",
       "      <td>100.000000</td>\n",
       "      <td>100.000000</td>\n",
       "      <td>100.000000</td>\n",
       "      <td>100.000000</td>\n",
       "      <td>100.000000</td>\n",
       "      <td>100.000000</td>\n",
       "      <td>100.000000</td>\n",
       "      <td>100.000000</td>\n",
       "      <td>100.000000</td>\n",
       "      <td>100.000000</td>\n",
       "      <td>100.000000</td>\n",
       "      <td>100.000000</td>\n",
       "    </tr>\n",
       "  </tbody>\n",
       "</table>\n",
       "</div>"
      ],
      "text/plain": [
       "       Average Consumption adequacy of nutrients/Calcium  \\\n",
       "count                                         122.000000   \n",
       "mean                                           63.692459   \n",
       "std                                            14.202116   \n",
       "min                                             7.870000   \n",
       "25%                                            56.895000   \n",
       "50%                                            65.750000   \n",
       "75%                                            71.752500   \n",
       "max                                           100.000000   \n",
       "\n",
       "       Average Consumption adequacy of nutrients/Foliate  \\\n",
       "count                                         122.000000   \n",
       "mean                                           95.475902   \n",
       "std                                             6.265266   \n",
       "min                                            67.690000   \n",
       "25%                                            93.935000   \n",
       "50%                                            97.780000   \n",
       "75%                                           100.000000   \n",
       "max                                           100.000000   \n",
       "\n",
       "       Average Consumption adequacy of nutrients/Iron  \\\n",
       "count                                      122.000000   \n",
       "mean                                        67.644918   \n",
       "std                                         13.290775   \n",
       "min                                         24.890000   \n",
       "25%                                         58.977500   \n",
       "50%                                         67.155000   \n",
       "75%                                         76.860000   \n",
       "max                                        100.000000   \n",
       "\n",
       "       Average Consumption adequacy of nutrients/Kilocaleries  \\\n",
       "count                                         122.000000        \n",
       "mean                                           80.608443        \n",
       "std                                            12.813223        \n",
       "min                                            43.440000        \n",
       "25%                                            74.057500        \n",
       "50%                                            83.445000        \n",
       "75%                                            89.372500        \n",
       "max                                           100.000000        \n",
       "\n",
       "       Average Consumption adequacy of nutrients/Proteins  \\\n",
       "count                                         122.000000    \n",
       "mean                                           86.999754    \n",
       "std                                            10.904073    \n",
       "min                                            55.900000    \n",
       "25%                                            81.770000    \n",
       "50%                                            88.650000    \n",
       "75%                                            96.155000    \n",
       "max                                           100.000000    \n",
       "\n",
       "       Average Consumption adequacy of nutrients/Riboflavin  \\\n",
       "count                                         122.000000      \n",
       "mean                                           80.492213      \n",
       "std                                            12.476063      \n",
       "min                                            36.800000      \n",
       "25%                                            73.487500      \n",
       "50%                                            82.875000      \n",
       "75%                                            88.572500      \n",
       "max                                           100.000000      \n",
       "\n",
       "       Average Consumption adequacy of nutrients/Thiamin  \\\n",
       "count                                         122.000000   \n",
       "mean                                           88.938443   \n",
       "std                                            10.005677   \n",
       "min                                            56.990000   \n",
       "25%                                            84.790000   \n",
       "50%                                            91.085000   \n",
       "75%                                            96.245000   \n",
       "max                                           100.000000   \n",
       "\n",
       "       Average Consumption adequacy of nutrients/VitaminA  \\\n",
       "count                                         122.000000    \n",
       "mean                                           87.189918    \n",
       "std                                            11.393070    \n",
       "min                                            17.760000    \n",
       "25%                                            83.917500    \n",
       "50%                                            88.085000    \n",
       "75%                                            94.495000    \n",
       "max                                           100.000000    \n",
       "\n",
       "       Average Consumption adequacy of nutrients/VitaminB12  \\\n",
       "count                                         122.000000      \n",
       "mean                                           62.075164      \n",
       "std                                            22.607859      \n",
       "min                                             0.000000      \n",
       "25%                                            47.065000      \n",
       "50%                                            62.145000      \n",
       "75%                                            79.197500      \n",
       "max                                           100.000000      \n",
       "\n",
       "       Average Consumption adequacy of nutrients/VitaminB6  \\\n",
       "count                                         122.000000     \n",
       "mean                                           94.095820     \n",
       "std                                             8.840154     \n",
       "min                                            59.620000     \n",
       "25%                                            91.180000     \n",
       "50%                                            98.490000     \n",
       "75%                                           100.000000     \n",
       "max                                           100.000000     \n",
       "\n",
       "       Average Consumption adequacy of nutrients/VitaminC  \\\n",
       "count                                         122.000000    \n",
       "mean                                           97.696967    \n",
       "std                                             8.823652    \n",
       "min                                             9.050000    \n",
       "25%                                            98.020000    \n",
       "50%                                           100.000000    \n",
       "75%                                           100.000000    \n",
       "max                                           100.000000    \n",
       "\n",
       "       Average Consumption adequacy of nutrients/Zinc  \n",
       "count                                      122.000000  \n",
       "mean                                        72.828525  \n",
       "std                                         12.111087  \n",
       "min                                         32.600000  \n",
       "25%                                         66.120000  \n",
       "50%                                         73.520000  \n",
       "75%                                         81.525000  \n",
       "max                                        100.000000  "
      ]
     },
     "execution_count": 12,
     "metadata": {},
     "output_type": "execute_result"
    }
   ],
   "source": [
    "merged_nutrients.describe()"
   ]
  },
  {
   "cell_type": "code",
   "execution_count": null,
   "id": "096b8be0",
   "metadata": {},
   "outputs": [],
   "source": []
  },
  {
   "cell_type": "markdown",
   "id": "c976ac2c",
   "metadata": {},
   "source": [
    "### Index Vulneablilty Analysis\n"
   ]
  },
  {
   "cell_type": "code",
   "execution_count": 26,
   "id": "3ecb5e83",
   "metadata": {},
   "outputs": [],
   "source": [
    "from functools import reduce\n",
    "import pandas as pd\n",
    "\n",
    "files = [\n",
    "    (\"Index datasets/composite-vulnerability.csv\", \"Composite Vulnerability Index\"),\n",
    "    (\"Index datasets/health-system-vulnerabil.csv\", \"Health System Vulnerability Index\"),\n",
    "    (\"Index datasets/mean-adequacy-ratio-inde.csv\", \"Mean Adequacy Ratio Index\"),\n",
    "    (\"Index datasets/per-capita-food-consumpt.csv\", \"Per Capita Food Consumption Index\"),\n",
    "    (\"Index datasets/vulnerability-to-climate.csv\", \"Vulnerability to Climate Change Index\"),\n",
    "]\n",
    "\n",
    "dfs = []\n",
    "for path, name in files:\n",
    "    df = pd.read_csv(path)\n",
    "    df.columns = [\"Category\", name]\n",
    "    dfs.append(df)\n",
    "\n",
    "merged_index = reduce(lambda left, right: pd.merge(left, right, on=\"Category\", how=\"outer\"), dfs)\n",
    "merged_index = merged_index.rename(columns={'Category': 'Region'})\n",
    "merged_index.head()\n",
    "merged_index.to_csv(\"merged_index.csv\", index=False)"
   ]
  },
  {
   "cell_type": "code",
   "execution_count": 27,
   "id": "66299800",
   "metadata": {},
   "outputs": [
    {
     "data": {
      "text/html": [
       "<div>\n",
       "<style scoped>\n",
       "    .dataframe tbody tr th:only-of-type {\n",
       "        vertical-align: middle;\n",
       "    }\n",
       "\n",
       "    .dataframe tbody tr th {\n",
       "        vertical-align: top;\n",
       "    }\n",
       "\n",
       "    .dataframe thead th {\n",
       "        text-align: right;\n",
       "    }\n",
       "</style>\n",
       "<table border=\"1\" class=\"dataframe\">\n",
       "  <thead>\n",
       "    <tr style=\"text-align: right;\">\n",
       "      <th></th>\n",
       "      <th>Region</th>\n",
       "      <th>Composite Vulnerability Index</th>\n",
       "      <th>Health System Vulnerability Index</th>\n",
       "      <th>Mean Adequacy Ratio Index</th>\n",
       "      <th>Per Capita Food Consumption Index</th>\n",
       "      <th>Vulnerability to Climate Change Index</th>\n",
       "    </tr>\n",
       "  </thead>\n",
       "  <tbody>\n",
       "    <tr>\n",
       "      <th>0</th>\n",
       "      <td>Acholi</td>\n",
       "      <td>0.8680</td>\n",
       "      <td>0.9266</td>\n",
       "      <td>1.0000</td>\n",
       "      <td>0.1938</td>\n",
       "      <td>0.7391</td>\n",
       "    </tr>\n",
       "    <tr>\n",
       "      <th>1</th>\n",
       "      <td>Ankole</td>\n",
       "      <td>0.4817</td>\n",
       "      <td>0.5628</td>\n",
       "      <td>0.2435</td>\n",
       "      <td>0.7355</td>\n",
       "      <td>0.8560</td>\n",
       "    </tr>\n",
       "    <tr>\n",
       "      <th>2</th>\n",
       "      <td>Buganda North</td>\n",
       "      <td>0.4963</td>\n",
       "      <td>0.4324</td>\n",
       "      <td>0.3440</td>\n",
       "      <td>0.4525</td>\n",
       "      <td>0.6615</td>\n",
       "    </tr>\n",
       "    <tr>\n",
       "      <th>3</th>\n",
       "      <td>Buganda South</td>\n",
       "      <td>0.4064</td>\n",
       "      <td>0.3024</td>\n",
       "      <td>0.2186</td>\n",
       "      <td>0.4134</td>\n",
       "      <td>0.5181</td>\n",
       "    </tr>\n",
       "    <tr>\n",
       "      <th>4</th>\n",
       "      <td>Bukedi</td>\n",
       "      <td>0.4659</td>\n",
       "      <td>0.4699</td>\n",
       "      <td>0.3210</td>\n",
       "      <td>0.4226</td>\n",
       "      <td>0.4953</td>\n",
       "    </tr>\n",
       "  </tbody>\n",
       "</table>\n",
       "</div>"
      ],
      "text/plain": [
       "          Region  Composite Vulnerability Index  \\\n",
       "0         Acholi                         0.8680   \n",
       "1         Ankole                         0.4817   \n",
       "2  Buganda North                         0.4963   \n",
       "3  Buganda South                         0.4064   \n",
       "4         Bukedi                         0.4659   \n",
       "\n",
       "   Health System Vulnerability Index  Mean Adequacy Ratio Index  \\\n",
       "0                             0.9266                     1.0000   \n",
       "1                             0.5628                     0.2435   \n",
       "2                             0.4324                     0.3440   \n",
       "3                             0.3024                     0.2186   \n",
       "4                             0.4699                     0.3210   \n",
       "\n",
       "   Per Capita Food Consumption Index  Vulnerability to Climate Change Index  \n",
       "0                             0.1938                                 0.7391  \n",
       "1                             0.7355                                 0.8560  \n",
       "2                             0.4525                                 0.6615  \n",
       "3                             0.4134                                 0.5181  \n",
       "4                             0.4226                                 0.4953  "
      ]
     },
     "execution_count": 27,
     "metadata": {},
     "output_type": "execute_result"
    }
   ],
   "source": [
    "merged_index.head()"
   ]
  },
  {
   "cell_type": "markdown",
   "id": "c5a5618a",
   "metadata": {},
   "source": [
    "### Communicating  Composite Vulnerability   \n",
    "Composite Vulnerability Index – An overall combined measure of vulnerability across multiple dimensions (health, food, climate, etc.). A higher value suggests higher vulnerability."
   ]
  },
  {
   "cell_type": "code",
   "execution_count": 34,
   "id": "2d501b73",
   "metadata": {},
   "outputs": [
    {
     "data": {
      "text/html": [
       "<div>\n",
       "<style scoped>\n",
       "    .dataframe tbody tr th:only-of-type {\n",
       "        vertical-align: middle;\n",
       "    }\n",
       "\n",
       "    .dataframe tbody tr th {\n",
       "        vertical-align: top;\n",
       "    }\n",
       "\n",
       "    .dataframe thead th {\n",
       "        text-align: right;\n",
       "    }\n",
       "</style>\n",
       "<table border=\"1\" class=\"dataframe\">\n",
       "  <thead>\n",
       "    <tr style=\"text-align: right;\">\n",
       "      <th></th>\n",
       "      <th>Region</th>\n",
       "      <th>Composite Vulnerability Index</th>\n",
       "    </tr>\n",
       "  </thead>\n",
       "  <tbody>\n",
       "    <tr>\n",
       "      <th>0</th>\n",
       "      <td>Acholi</td>\n",
       "      <td>0.8680</td>\n",
       "    </tr>\n",
       "    <tr>\n",
       "      <th>1</th>\n",
       "      <td>Lango</td>\n",
       "      <td>0.7666</td>\n",
       "    </tr>\n",
       "    <tr>\n",
       "      <th>2</th>\n",
       "      <td>Busoga</td>\n",
       "      <td>0.6745</td>\n",
       "    </tr>\n",
       "    <tr>\n",
       "      <th>3</th>\n",
       "      <td>Karamoja</td>\n",
       "      <td>0.6228</td>\n",
       "    </tr>\n",
       "    <tr>\n",
       "      <th>4</th>\n",
       "      <td>Teso</td>\n",
       "      <td>0.5854</td>\n",
       "    </tr>\n",
       "  </tbody>\n",
       "</table>\n",
       "</div>"
      ],
      "text/plain": [
       "     Region  Composite Vulnerability Index\n",
       "0    Acholi                         0.8680\n",
       "1     Lango                         0.7666\n",
       "2    Busoga                         0.6745\n",
       "3  Karamoja                         0.6228\n",
       "4      Teso                         0.5854"
      ]
     },
     "execution_count": 34,
     "metadata": {},
     "output_type": "execute_result"
    }
   ],
   "source": [
    "composite=merged_index[['Region','Composite Vulnerability Index']].sort_values(by='Composite Vulnerability Index', ascending=False).drop_duplicates(subset=['Region']).reset_index(drop=True)\n",
    "composite.head()"
   ]
  },
  {
   "cell_type": "code",
   "execution_count": 35,
   "id": "414a2698",
   "metadata": {},
   "outputs": [
    {
     "data": {
      "application/vnd.plotly.v1+json": {
       "config": {
        "plotlyServerURL": "https://plot.ly"
       },
       "data": [
        {
         "hovertemplate": "Region=%{x}<br>Composite Vulnerability Index=%{marker.color}<extra></extra>",
         "legendgroup": "",
         "marker": {
          "color": {
           "bdata": "LbKd76fG6z+coiO5/IfoPy/dJAaBleU/klz+Q/rt4z9BguLHmLviP4PAyqFFtuE/pU5AE2HD3z/A7J48LNTeP6g1zTtO0d0/f2q8dJMY3D8bnl4pyxDbP6YKRiV1Ato/HqfoSC7/2T9HcvkP6bfHPw==",
           "dtype": "f8"
          },
          "coloraxis": "coloraxis",
          "pattern": {
           "shape": ""
          }
         },
         "name": "",
         "orientation": "v",
         "showlegend": false,
         "textposition": "auto",
         "type": "bar",
         "x": [
          "Acholi",
          "Lango",
          "Busoga",
          "Karamoja",
          "Teso",
          "West Nile",
          "Buganda North",
          "Ankole",
          "Bukedi",
          "Toro",
          "Kigezi",
          "Buganda South",
          "Elgon",
          "Kampala"
         ],
         "xaxis": "x",
         "y": {
          "bdata": "LbKd76fG6z+coiO5/IfoPy/dJAaBleU/klz+Q/rt4z9BguLHmLviP4PAyqFFtuE/pU5AE2HD3z/A7J48LNTeP6g1zTtO0d0/f2q8dJMY3D8bnl4pyxDbP6YKRiV1Ato/HqfoSC7/2T9HcvkP6bfHPw==",
          "dtype": "f8"
         },
         "yaxis": "y"
        }
       ],
       "layout": {
        "barmode": "relative",
        "coloraxis": {
         "colorbar": {
          "title": {
           "text": "Vulnerability Index"
          }
         },
         "colorscale": [
          [
           0,
           "#0d0887"
          ],
          [
           0.1111111111111111,
           "#46039f"
          ],
          [
           0.2222222222222222,
           "#7201a8"
          ],
          [
           0.3333333333333333,
           "#9c179e"
          ],
          [
           0.4444444444444444,
           "#bd3786"
          ],
          [
           0.5555555555555556,
           "#d8576b"
          ],
          [
           0.6666666666666666,
           "#ed7953"
          ],
          [
           0.7777777777777778,
           "#fb9f3a"
          ],
          [
           0.8888888888888888,
           "#fdca26"
          ],
          [
           1,
           "#f0f921"
          ]
         ]
        },
        "legend": {
         "tracegroupgap": 0
        },
        "template": {
         "data": {
          "bar": [
           {
            "error_x": {
             "color": "#2a3f5f"
            },
            "error_y": {
             "color": "#2a3f5f"
            },
            "marker": {
             "line": {
              "color": "#E5ECF6",
              "width": 0.5
             },
             "pattern": {
              "fillmode": "overlay",
              "size": 10,
              "solidity": 0.2
             }
            },
            "type": "bar"
           }
          ],
          "barpolar": [
           {
            "marker": {
             "line": {
              "color": "#E5ECF6",
              "width": 0.5
             },
             "pattern": {
              "fillmode": "overlay",
              "size": 10,
              "solidity": 0.2
             }
            },
            "type": "barpolar"
           }
          ],
          "carpet": [
           {
            "aaxis": {
             "endlinecolor": "#2a3f5f",
             "gridcolor": "white",
             "linecolor": "white",
             "minorgridcolor": "white",
             "startlinecolor": "#2a3f5f"
            },
            "baxis": {
             "endlinecolor": "#2a3f5f",
             "gridcolor": "white",
             "linecolor": "white",
             "minorgridcolor": "white",
             "startlinecolor": "#2a3f5f"
            },
            "type": "carpet"
           }
          ],
          "choropleth": [
           {
            "colorbar": {
             "outlinewidth": 0,
             "ticks": ""
            },
            "type": "choropleth"
           }
          ],
          "contour": [
           {
            "colorbar": {
             "outlinewidth": 0,
             "ticks": ""
            },
            "colorscale": [
             [
              0,
              "#0d0887"
             ],
             [
              0.1111111111111111,
              "#46039f"
             ],
             [
              0.2222222222222222,
              "#7201a8"
             ],
             [
              0.3333333333333333,
              "#9c179e"
             ],
             [
              0.4444444444444444,
              "#bd3786"
             ],
             [
              0.5555555555555556,
              "#d8576b"
             ],
             [
              0.6666666666666666,
              "#ed7953"
             ],
             [
              0.7777777777777778,
              "#fb9f3a"
             ],
             [
              0.8888888888888888,
              "#fdca26"
             ],
             [
              1,
              "#f0f921"
             ]
            ],
            "type": "contour"
           }
          ],
          "contourcarpet": [
           {
            "colorbar": {
             "outlinewidth": 0,
             "ticks": ""
            },
            "type": "contourcarpet"
           }
          ],
          "heatmap": [
           {
            "colorbar": {
             "outlinewidth": 0,
             "ticks": ""
            },
            "colorscale": [
             [
              0,
              "#0d0887"
             ],
             [
              0.1111111111111111,
              "#46039f"
             ],
             [
              0.2222222222222222,
              "#7201a8"
             ],
             [
              0.3333333333333333,
              "#9c179e"
             ],
             [
              0.4444444444444444,
              "#bd3786"
             ],
             [
              0.5555555555555556,
              "#d8576b"
             ],
             [
              0.6666666666666666,
              "#ed7953"
             ],
             [
              0.7777777777777778,
              "#fb9f3a"
             ],
             [
              0.8888888888888888,
              "#fdca26"
             ],
             [
              1,
              "#f0f921"
             ]
            ],
            "type": "heatmap"
           }
          ],
          "histogram": [
           {
            "marker": {
             "pattern": {
              "fillmode": "overlay",
              "size": 10,
              "solidity": 0.2
             }
            },
            "type": "histogram"
           }
          ],
          "histogram2d": [
           {
            "colorbar": {
             "outlinewidth": 0,
             "ticks": ""
            },
            "colorscale": [
             [
              0,
              "#0d0887"
             ],
             [
              0.1111111111111111,
              "#46039f"
             ],
             [
              0.2222222222222222,
              "#7201a8"
             ],
             [
              0.3333333333333333,
              "#9c179e"
             ],
             [
              0.4444444444444444,
              "#bd3786"
             ],
             [
              0.5555555555555556,
              "#d8576b"
             ],
             [
              0.6666666666666666,
              "#ed7953"
             ],
             [
              0.7777777777777778,
              "#fb9f3a"
             ],
             [
              0.8888888888888888,
              "#fdca26"
             ],
             [
              1,
              "#f0f921"
             ]
            ],
            "type": "histogram2d"
           }
          ],
          "histogram2dcontour": [
           {
            "colorbar": {
             "outlinewidth": 0,
             "ticks": ""
            },
            "colorscale": [
             [
              0,
              "#0d0887"
             ],
             [
              0.1111111111111111,
              "#46039f"
             ],
             [
              0.2222222222222222,
              "#7201a8"
             ],
             [
              0.3333333333333333,
              "#9c179e"
             ],
             [
              0.4444444444444444,
              "#bd3786"
             ],
             [
              0.5555555555555556,
              "#d8576b"
             ],
             [
              0.6666666666666666,
              "#ed7953"
             ],
             [
              0.7777777777777778,
              "#fb9f3a"
             ],
             [
              0.8888888888888888,
              "#fdca26"
             ],
             [
              1,
              "#f0f921"
             ]
            ],
            "type": "histogram2dcontour"
           }
          ],
          "mesh3d": [
           {
            "colorbar": {
             "outlinewidth": 0,
             "ticks": ""
            },
            "type": "mesh3d"
           }
          ],
          "parcoords": [
           {
            "line": {
             "colorbar": {
              "outlinewidth": 0,
              "ticks": ""
             }
            },
            "type": "parcoords"
           }
          ],
          "pie": [
           {
            "automargin": true,
            "type": "pie"
           }
          ],
          "scatter": [
           {
            "fillpattern": {
             "fillmode": "overlay",
             "size": 10,
             "solidity": 0.2
            },
            "type": "scatter"
           }
          ],
          "scatter3d": [
           {
            "line": {
             "colorbar": {
              "outlinewidth": 0,
              "ticks": ""
             }
            },
            "marker": {
             "colorbar": {
              "outlinewidth": 0,
              "ticks": ""
             }
            },
            "type": "scatter3d"
           }
          ],
          "scattercarpet": [
           {
            "marker": {
             "colorbar": {
              "outlinewidth": 0,
              "ticks": ""
             }
            },
            "type": "scattercarpet"
           }
          ],
          "scattergeo": [
           {
            "marker": {
             "colorbar": {
              "outlinewidth": 0,
              "ticks": ""
             }
            },
            "type": "scattergeo"
           }
          ],
          "scattergl": [
           {
            "marker": {
             "colorbar": {
              "outlinewidth": 0,
              "ticks": ""
             }
            },
            "type": "scattergl"
           }
          ],
          "scattermap": [
           {
            "marker": {
             "colorbar": {
              "outlinewidth": 0,
              "ticks": ""
             }
            },
            "type": "scattermap"
           }
          ],
          "scattermapbox": [
           {
            "marker": {
             "colorbar": {
              "outlinewidth": 0,
              "ticks": ""
             }
            },
            "type": "scattermapbox"
           }
          ],
          "scatterpolar": [
           {
            "marker": {
             "colorbar": {
              "outlinewidth": 0,
              "ticks": ""
             }
            },
            "type": "scatterpolar"
           }
          ],
          "scatterpolargl": [
           {
            "marker": {
             "colorbar": {
              "outlinewidth": 0,
              "ticks": ""
             }
            },
            "type": "scatterpolargl"
           }
          ],
          "scatterternary": [
           {
            "marker": {
             "colorbar": {
              "outlinewidth": 0,
              "ticks": ""
             }
            },
            "type": "scatterternary"
           }
          ],
          "surface": [
           {
            "colorbar": {
             "outlinewidth": 0,
             "ticks": ""
            },
            "colorscale": [
             [
              0,
              "#0d0887"
             ],
             [
              0.1111111111111111,
              "#46039f"
             ],
             [
              0.2222222222222222,
              "#7201a8"
             ],
             [
              0.3333333333333333,
              "#9c179e"
             ],
             [
              0.4444444444444444,
              "#bd3786"
             ],
             [
              0.5555555555555556,
              "#d8576b"
             ],
             [
              0.6666666666666666,
              "#ed7953"
             ],
             [
              0.7777777777777778,
              "#fb9f3a"
             ],
             [
              0.8888888888888888,
              "#fdca26"
             ],
             [
              1,
              "#f0f921"
             ]
            ],
            "type": "surface"
           }
          ],
          "table": [
           {
            "cells": {
             "fill": {
              "color": "#EBF0F8"
             },
             "line": {
              "color": "white"
             }
            },
            "header": {
             "fill": {
              "color": "#C8D4E3"
             },
             "line": {
              "color": "white"
             }
            },
            "type": "table"
           }
          ]
         },
         "layout": {
          "annotationdefaults": {
           "arrowcolor": "#2a3f5f",
           "arrowhead": 0,
           "arrowwidth": 1
          },
          "autotypenumbers": "strict",
          "coloraxis": {
           "colorbar": {
            "outlinewidth": 0,
            "ticks": ""
           }
          },
          "colorscale": {
           "diverging": [
            [
             0,
             "#8e0152"
            ],
            [
             0.1,
             "#c51b7d"
            ],
            [
             0.2,
             "#de77ae"
            ],
            [
             0.3,
             "#f1b6da"
            ],
            [
             0.4,
             "#fde0ef"
            ],
            [
             0.5,
             "#f7f7f7"
            ],
            [
             0.6,
             "#e6f5d0"
            ],
            [
             0.7,
             "#b8e186"
            ],
            [
             0.8,
             "#7fbc41"
            ],
            [
             0.9,
             "#4d9221"
            ],
            [
             1,
             "#276419"
            ]
           ],
           "sequential": [
            [
             0,
             "#0d0887"
            ],
            [
             0.1111111111111111,
             "#46039f"
            ],
            [
             0.2222222222222222,
             "#7201a8"
            ],
            [
             0.3333333333333333,
             "#9c179e"
            ],
            [
             0.4444444444444444,
             "#bd3786"
            ],
            [
             0.5555555555555556,
             "#d8576b"
            ],
            [
             0.6666666666666666,
             "#ed7953"
            ],
            [
             0.7777777777777778,
             "#fb9f3a"
            ],
            [
             0.8888888888888888,
             "#fdca26"
            ],
            [
             1,
             "#f0f921"
            ]
           ],
           "sequentialminus": [
            [
             0,
             "#0d0887"
            ],
            [
             0.1111111111111111,
             "#46039f"
            ],
            [
             0.2222222222222222,
             "#7201a8"
            ],
            [
             0.3333333333333333,
             "#9c179e"
            ],
            [
             0.4444444444444444,
             "#bd3786"
            ],
            [
             0.5555555555555556,
             "#d8576b"
            ],
            [
             0.6666666666666666,
             "#ed7953"
            ],
            [
             0.7777777777777778,
             "#fb9f3a"
            ],
            [
             0.8888888888888888,
             "#fdca26"
            ],
            [
             1,
             "#f0f921"
            ]
           ]
          },
          "colorway": [
           "#636efa",
           "#EF553B",
           "#00cc96",
           "#ab63fa",
           "#FFA15A",
           "#19d3f3",
           "#FF6692",
           "#B6E880",
           "#FF97FF",
           "#FECB52"
          ],
          "font": {
           "color": "#2a3f5f"
          },
          "geo": {
           "bgcolor": "white",
           "lakecolor": "white",
           "landcolor": "#E5ECF6",
           "showlakes": true,
           "showland": true,
           "subunitcolor": "white"
          },
          "hoverlabel": {
           "align": "left"
          },
          "hovermode": "closest",
          "mapbox": {
           "style": "light"
          },
          "paper_bgcolor": "white",
          "plot_bgcolor": "#E5ECF6",
          "polar": {
           "angularaxis": {
            "gridcolor": "white",
            "linecolor": "white",
            "ticks": ""
           },
           "bgcolor": "#E5ECF6",
           "radialaxis": {
            "gridcolor": "white",
            "linecolor": "white",
            "ticks": ""
           }
          },
          "scene": {
           "xaxis": {
            "backgroundcolor": "#E5ECF6",
            "gridcolor": "white",
            "gridwidth": 2,
            "linecolor": "white",
            "showbackground": true,
            "ticks": "",
            "zerolinecolor": "white"
           },
           "yaxis": {
            "backgroundcolor": "#E5ECF6",
            "gridcolor": "white",
            "gridwidth": 2,
            "linecolor": "white",
            "showbackground": true,
            "ticks": "",
            "zerolinecolor": "white"
           },
           "zaxis": {
            "backgroundcolor": "#E5ECF6",
            "gridcolor": "white",
            "gridwidth": 2,
            "linecolor": "white",
            "showbackground": true,
            "ticks": "",
            "zerolinecolor": "white"
           }
          },
          "shapedefaults": {
           "line": {
            "color": "#2a3f5f"
           }
          },
          "ternary": {
           "aaxis": {
            "gridcolor": "white",
            "linecolor": "white",
            "ticks": ""
           },
           "baxis": {
            "gridcolor": "white",
            "linecolor": "white",
            "ticks": ""
           },
           "bgcolor": "#E5ECF6",
           "caxis": {
            "gridcolor": "white",
            "linecolor": "white",
            "ticks": ""
           }
          },
          "title": {
           "x": 0.05
          },
          "xaxis": {
           "automargin": true,
           "gridcolor": "white",
           "linecolor": "white",
           "ticks": "",
           "title": {
            "standoff": 15
           },
           "zerolinecolor": "white",
           "zerolinewidth": 2
          },
          "yaxis": {
           "automargin": true,
           "gridcolor": "white",
           "linecolor": "white",
           "ticks": "",
           "title": {
            "standoff": 15
           },
           "zerolinecolor": "white",
           "zerolinewidth": 2
          }
         }
        },
        "title": {
         "text": "Composite Vulnerability Index by Region"
        },
        "xaxis": {
         "anchor": "y",
         "domain": [
          0,
          1
         ],
         "tickangle": -45,
         "title": {
          "text": "Region"
         }
        },
        "yaxis": {
         "anchor": "x",
         "domain": [
          0,
          1
         ],
         "title": {
          "text": "Composite Vulnerability Index"
         }
        }
       }
      }
     },
     "metadata": {},
     "output_type": "display_data"
    }
   ],
   "source": [
    "# Bar Composite Vulnerability by Category\n",
    "fig = px.bar(\n",
    "    composite,\n",
    "    x=\"Region\",  # Regions (Acholi, Buganda, etc.)\n",
    "    y=\"Composite Vulnerability Index\",  # Value to plot\n",
    "    title=\"Composite Vulnerability Index by Region\",\n",
    "    color=\"Composite Vulnerability Index\",  # Color scale based on value\n",
    "    #color_continuous_scale=\"Reds\"\n",
    ")\n",
    "\n",
    "# Rotate x-axis labels for readability\n",
    "fig.update_layout(xaxis_tickangle=-45,\n",
    "                  coloraxis_colorbar=dict(title=\"Vulnerability Index\"))\n"
   ]
  },
  {
   "cell_type": "markdown",
   "id": "f2f06bb8",
   "metadata": {},
   "source": [
    "### Composite Vulnerability Index by Region  \n",
    "\n",
    "The **Composite Vulnerability Index (CVI)** is the average of four dimensions:  \n",
    "- **Health System Vulnerability**  \n",
    "- **Mean Adequacy Ratio (nutrition adequacy)**  \n",
    "- **Per Capita Food Consumption**  \n",
    "- **Vulnerability to Climate Change**  \n",
    "\n",
    "This provides a single measure (0 = low, 1 = high) to compare regions.  \n",
    "\n",
    "> **Insight:** Acholi, Lango, and Busoga are the most vulnerable regions, while Kampala and Elgon are the least.  \n",
    "> This suggests interventions should target the high-risk regions first to strengthen resilience.  \n"
   ]
  },
  {
   "cell_type": "markdown",
   "id": "4631a857",
   "metadata": {},
   "source": [
    "### Healthy System Vulnerability\n"
   ]
  },
  {
   "cell_type": "code",
   "execution_count": 36,
   "id": "f1de3b96",
   "metadata": {},
   "outputs": [
    {
     "data": {
      "text/html": [
       "<div>\n",
       "<style scoped>\n",
       "    .dataframe tbody tr th:only-of-type {\n",
       "        vertical-align: middle;\n",
       "    }\n",
       "\n",
       "    .dataframe tbody tr th {\n",
       "        vertical-align: top;\n",
       "    }\n",
       "\n",
       "    .dataframe thead th {\n",
       "        text-align: right;\n",
       "    }\n",
       "</style>\n",
       "<table border=\"1\" class=\"dataframe\">\n",
       "  <thead>\n",
       "    <tr style=\"text-align: right;\">\n",
       "      <th></th>\n",
       "      <th>Region</th>\n",
       "      <th>Health System Vulnerability Index</th>\n",
       "    </tr>\n",
       "  </thead>\n",
       "  <tbody>\n",
       "    <tr>\n",
       "      <th>0</th>\n",
       "      <td>Lango</td>\n",
       "      <td>1.0000</td>\n",
       "    </tr>\n",
       "    <tr>\n",
       "      <th>1</th>\n",
       "      <td>Acholi</td>\n",
       "      <td>0.9266</td>\n",
       "    </tr>\n",
       "    <tr>\n",
       "      <th>2</th>\n",
       "      <td>Busoga</td>\n",
       "      <td>0.8489</td>\n",
       "    </tr>\n",
       "    <tr>\n",
       "      <th>3</th>\n",
       "      <td>Teso</td>\n",
       "      <td>0.8167</td>\n",
       "    </tr>\n",
       "    <tr>\n",
       "      <th>4</th>\n",
       "      <td>Toro</td>\n",
       "      <td>0.5958</td>\n",
       "    </tr>\n",
       "  </tbody>\n",
       "</table>\n",
       "</div>"
      ],
      "text/plain": [
       "   Region  Health System Vulnerability Index\n",
       "0   Lango                             1.0000\n",
       "1  Acholi                             0.9266\n",
       "2  Busoga                             0.8489\n",
       "3    Teso                             0.8167\n",
       "4    Toro                             0.5958"
      ]
     },
     "execution_count": 36,
     "metadata": {},
     "output_type": "execute_result"
    }
   ],
   "source": [
    "health=merged_index[['Region','Health System Vulnerability Index']].sort_values(by='Health System Vulnerability Index', ascending=False).drop_duplicates(subset=['Region']).reset_index(drop=True)\n",
    "health.head()"
   ]
  },
  {
   "cell_type": "code",
   "execution_count": 37,
   "id": "85366be0",
   "metadata": {},
   "outputs": [
    {
     "data": {
      "application/vnd.plotly.v1+json": {
       "config": {
        "plotlyServerURL": "https://plot.ly"
       },
       "data": [
        {
         "hovertemplate": "Health System Vulnerability Index=%{marker.color}<br>Region=%{y}<extra></extra>",
         "legendgroup": "",
         "marker": {
          "color": {
           "bdata": "AAAAAAAA8D+7Jw8LtabtP3xhMlUwKus/GJXUCWgi6j8bnl4pyxDjP6YKRiV1AuI/KqkT0ETY4D+EDU+vlGXgP1D8GHPXEt4/6pWyDHGs2z8CvAUSFD/aP1K4HoXrUdg/mN2Th4Va0z8AAAAAAAAAAA==",
           "dtype": "f8"
          },
          "coloraxis": "coloraxis",
          "size": {
           "bdata": "AAAAAAAA8D+7Jw8LtabtP3xhMlUwKus/GJXUCWgi6j8bnl4pyxDjP6YKRiV1AuI/KqkT0ETY4D+EDU+vlGXgP1D8GHPXEt4/6pWyDHGs2z8CvAUSFD/aP1K4HoXrUdg/mN2Th4Va0z8AAAAAAAAAAA==",
           "dtype": "f8"
          },
          "sizemode": "area",
          "sizeref": 0.0025,
          "symbol": "circle"
         },
         "mode": "markers",
         "name": "",
         "orientation": "h",
         "showlegend": false,
         "type": "scatter",
         "x": {
          "bdata": "AAAAAAAA8D+7Jw8LtabtP3xhMlUwKus/GJXUCWgi6j8bnl4pyxDjP6YKRiV1AuI/KqkT0ETY4D+EDU+vlGXgP1D8GHPXEt4/6pWyDHGs2z8CvAUSFD/aP1K4HoXrUdg/mN2Th4Va0z8AAAAAAAAAAA==",
          "dtype": "f8"
         },
         "xaxis": "x",
         "y": [
          "Lango",
          "Acholi",
          "Busoga",
          "Teso",
          "Toro",
          "Ankole",
          "Karamoja",
          "Elgon",
          "Bukedi",
          "Buganda North",
          "West Nile",
          "Kigezi",
          "Buganda South",
          "Kampala"
         ],
         "yaxis": "y"
        }
       ],
       "layout": {
        "coloraxis": {
         "colorbar": {
          "title": {
           "text": "Health System Vulnerability Index"
          }
         },
         "colorscale": [
          [
           0,
           "#0d0887"
          ],
          [
           0.1111111111111111,
           "#46039f"
          ],
          [
           0.2222222222222222,
           "#7201a8"
          ],
          [
           0.3333333333333333,
           "#9c179e"
          ],
          [
           0.4444444444444444,
           "#bd3786"
          ],
          [
           0.5555555555555556,
           "#d8576b"
          ],
          [
           0.6666666666666666,
           "#ed7953"
          ],
          [
           0.7777777777777778,
           "#fb9f3a"
          ],
          [
           0.8888888888888888,
           "#fdca26"
          ],
          [
           1,
           "#f0f921"
          ]
         ]
        },
        "legend": {
         "itemsizing": "constant",
         "tracegroupgap": 0
        },
        "template": {
         "data": {
          "bar": [
           {
            "error_x": {
             "color": "#2a3f5f"
            },
            "error_y": {
             "color": "#2a3f5f"
            },
            "marker": {
             "line": {
              "color": "#E5ECF6",
              "width": 0.5
             },
             "pattern": {
              "fillmode": "overlay",
              "size": 10,
              "solidity": 0.2
             }
            },
            "type": "bar"
           }
          ],
          "barpolar": [
           {
            "marker": {
             "line": {
              "color": "#E5ECF6",
              "width": 0.5
             },
             "pattern": {
              "fillmode": "overlay",
              "size": 10,
              "solidity": 0.2
             }
            },
            "type": "barpolar"
           }
          ],
          "carpet": [
           {
            "aaxis": {
             "endlinecolor": "#2a3f5f",
             "gridcolor": "white",
             "linecolor": "white",
             "minorgridcolor": "white",
             "startlinecolor": "#2a3f5f"
            },
            "baxis": {
             "endlinecolor": "#2a3f5f",
             "gridcolor": "white",
             "linecolor": "white",
             "minorgridcolor": "white",
             "startlinecolor": "#2a3f5f"
            },
            "type": "carpet"
           }
          ],
          "choropleth": [
           {
            "colorbar": {
             "outlinewidth": 0,
             "ticks": ""
            },
            "type": "choropleth"
           }
          ],
          "contour": [
           {
            "colorbar": {
             "outlinewidth": 0,
             "ticks": ""
            },
            "colorscale": [
             [
              0,
              "#0d0887"
             ],
             [
              0.1111111111111111,
              "#46039f"
             ],
             [
              0.2222222222222222,
              "#7201a8"
             ],
             [
              0.3333333333333333,
              "#9c179e"
             ],
             [
              0.4444444444444444,
              "#bd3786"
             ],
             [
              0.5555555555555556,
              "#d8576b"
             ],
             [
              0.6666666666666666,
              "#ed7953"
             ],
             [
              0.7777777777777778,
              "#fb9f3a"
             ],
             [
              0.8888888888888888,
              "#fdca26"
             ],
             [
              1,
              "#f0f921"
             ]
            ],
            "type": "contour"
           }
          ],
          "contourcarpet": [
           {
            "colorbar": {
             "outlinewidth": 0,
             "ticks": ""
            },
            "type": "contourcarpet"
           }
          ],
          "heatmap": [
           {
            "colorbar": {
             "outlinewidth": 0,
             "ticks": ""
            },
            "colorscale": [
             [
              0,
              "#0d0887"
             ],
             [
              0.1111111111111111,
              "#46039f"
             ],
             [
              0.2222222222222222,
              "#7201a8"
             ],
             [
              0.3333333333333333,
              "#9c179e"
             ],
             [
              0.4444444444444444,
              "#bd3786"
             ],
             [
              0.5555555555555556,
              "#d8576b"
             ],
             [
              0.6666666666666666,
              "#ed7953"
             ],
             [
              0.7777777777777778,
              "#fb9f3a"
             ],
             [
              0.8888888888888888,
              "#fdca26"
             ],
             [
              1,
              "#f0f921"
             ]
            ],
            "type": "heatmap"
           }
          ],
          "histogram": [
           {
            "marker": {
             "pattern": {
              "fillmode": "overlay",
              "size": 10,
              "solidity": 0.2
             }
            },
            "type": "histogram"
           }
          ],
          "histogram2d": [
           {
            "colorbar": {
             "outlinewidth": 0,
             "ticks": ""
            },
            "colorscale": [
             [
              0,
              "#0d0887"
             ],
             [
              0.1111111111111111,
              "#46039f"
             ],
             [
              0.2222222222222222,
              "#7201a8"
             ],
             [
              0.3333333333333333,
              "#9c179e"
             ],
             [
              0.4444444444444444,
              "#bd3786"
             ],
             [
              0.5555555555555556,
              "#d8576b"
             ],
             [
              0.6666666666666666,
              "#ed7953"
             ],
             [
              0.7777777777777778,
              "#fb9f3a"
             ],
             [
              0.8888888888888888,
              "#fdca26"
             ],
             [
              1,
              "#f0f921"
             ]
            ],
            "type": "histogram2d"
           }
          ],
          "histogram2dcontour": [
           {
            "colorbar": {
             "outlinewidth": 0,
             "ticks": ""
            },
            "colorscale": [
             [
              0,
              "#0d0887"
             ],
             [
              0.1111111111111111,
              "#46039f"
             ],
             [
              0.2222222222222222,
              "#7201a8"
             ],
             [
              0.3333333333333333,
              "#9c179e"
             ],
             [
              0.4444444444444444,
              "#bd3786"
             ],
             [
              0.5555555555555556,
              "#d8576b"
             ],
             [
              0.6666666666666666,
              "#ed7953"
             ],
             [
              0.7777777777777778,
              "#fb9f3a"
             ],
             [
              0.8888888888888888,
              "#fdca26"
             ],
             [
              1,
              "#f0f921"
             ]
            ],
            "type": "histogram2dcontour"
           }
          ],
          "mesh3d": [
           {
            "colorbar": {
             "outlinewidth": 0,
             "ticks": ""
            },
            "type": "mesh3d"
           }
          ],
          "parcoords": [
           {
            "line": {
             "colorbar": {
              "outlinewidth": 0,
              "ticks": ""
             }
            },
            "type": "parcoords"
           }
          ],
          "pie": [
           {
            "automargin": true,
            "type": "pie"
           }
          ],
          "scatter": [
           {
            "fillpattern": {
             "fillmode": "overlay",
             "size": 10,
             "solidity": 0.2
            },
            "type": "scatter"
           }
          ],
          "scatter3d": [
           {
            "line": {
             "colorbar": {
              "outlinewidth": 0,
              "ticks": ""
             }
            },
            "marker": {
             "colorbar": {
              "outlinewidth": 0,
              "ticks": ""
             }
            },
            "type": "scatter3d"
           }
          ],
          "scattercarpet": [
           {
            "marker": {
             "colorbar": {
              "outlinewidth": 0,
              "ticks": ""
             }
            },
            "type": "scattercarpet"
           }
          ],
          "scattergeo": [
           {
            "marker": {
             "colorbar": {
              "outlinewidth": 0,
              "ticks": ""
             }
            },
            "type": "scattergeo"
           }
          ],
          "scattergl": [
           {
            "marker": {
             "colorbar": {
              "outlinewidth": 0,
              "ticks": ""
             }
            },
            "type": "scattergl"
           }
          ],
          "scattermap": [
           {
            "marker": {
             "colorbar": {
              "outlinewidth": 0,
              "ticks": ""
             }
            },
            "type": "scattermap"
           }
          ],
          "scattermapbox": [
           {
            "marker": {
             "colorbar": {
              "outlinewidth": 0,
              "ticks": ""
             }
            },
            "type": "scattermapbox"
           }
          ],
          "scatterpolar": [
           {
            "marker": {
             "colorbar": {
              "outlinewidth": 0,
              "ticks": ""
             }
            },
            "type": "scatterpolar"
           }
          ],
          "scatterpolargl": [
           {
            "marker": {
             "colorbar": {
              "outlinewidth": 0,
              "ticks": ""
             }
            },
            "type": "scatterpolargl"
           }
          ],
          "scatterternary": [
           {
            "marker": {
             "colorbar": {
              "outlinewidth": 0,
              "ticks": ""
             }
            },
            "type": "scatterternary"
           }
          ],
          "surface": [
           {
            "colorbar": {
             "outlinewidth": 0,
             "ticks": ""
            },
            "colorscale": [
             [
              0,
              "#0d0887"
             ],
             [
              0.1111111111111111,
              "#46039f"
             ],
             [
              0.2222222222222222,
              "#7201a8"
             ],
             [
              0.3333333333333333,
              "#9c179e"
             ],
             [
              0.4444444444444444,
              "#bd3786"
             ],
             [
              0.5555555555555556,
              "#d8576b"
             ],
             [
              0.6666666666666666,
              "#ed7953"
             ],
             [
              0.7777777777777778,
              "#fb9f3a"
             ],
             [
              0.8888888888888888,
              "#fdca26"
             ],
             [
              1,
              "#f0f921"
             ]
            ],
            "type": "surface"
           }
          ],
          "table": [
           {
            "cells": {
             "fill": {
              "color": "#EBF0F8"
             },
             "line": {
              "color": "white"
             }
            },
            "header": {
             "fill": {
              "color": "#C8D4E3"
             },
             "line": {
              "color": "white"
             }
            },
            "type": "table"
           }
          ]
         },
         "layout": {
          "annotationdefaults": {
           "arrowcolor": "#2a3f5f",
           "arrowhead": 0,
           "arrowwidth": 1
          },
          "autotypenumbers": "strict",
          "coloraxis": {
           "colorbar": {
            "outlinewidth": 0,
            "ticks": ""
           }
          },
          "colorscale": {
           "diverging": [
            [
             0,
             "#8e0152"
            ],
            [
             0.1,
             "#c51b7d"
            ],
            [
             0.2,
             "#de77ae"
            ],
            [
             0.3,
             "#f1b6da"
            ],
            [
             0.4,
             "#fde0ef"
            ],
            [
             0.5,
             "#f7f7f7"
            ],
            [
             0.6,
             "#e6f5d0"
            ],
            [
             0.7,
             "#b8e186"
            ],
            [
             0.8,
             "#7fbc41"
            ],
            [
             0.9,
             "#4d9221"
            ],
            [
             1,
             "#276419"
            ]
           ],
           "sequential": [
            [
             0,
             "#0d0887"
            ],
            [
             0.1111111111111111,
             "#46039f"
            ],
            [
             0.2222222222222222,
             "#7201a8"
            ],
            [
             0.3333333333333333,
             "#9c179e"
            ],
            [
             0.4444444444444444,
             "#bd3786"
            ],
            [
             0.5555555555555556,
             "#d8576b"
            ],
            [
             0.6666666666666666,
             "#ed7953"
            ],
            [
             0.7777777777777778,
             "#fb9f3a"
            ],
            [
             0.8888888888888888,
             "#fdca26"
            ],
            [
             1,
             "#f0f921"
            ]
           ],
           "sequentialminus": [
            [
             0,
             "#0d0887"
            ],
            [
             0.1111111111111111,
             "#46039f"
            ],
            [
             0.2222222222222222,
             "#7201a8"
            ],
            [
             0.3333333333333333,
             "#9c179e"
            ],
            [
             0.4444444444444444,
             "#bd3786"
            ],
            [
             0.5555555555555556,
             "#d8576b"
            ],
            [
             0.6666666666666666,
             "#ed7953"
            ],
            [
             0.7777777777777778,
             "#fb9f3a"
            ],
            [
             0.8888888888888888,
             "#fdca26"
            ],
            [
             1,
             "#f0f921"
            ]
           ]
          },
          "colorway": [
           "#636efa",
           "#EF553B",
           "#00cc96",
           "#ab63fa",
           "#FFA15A",
           "#19d3f3",
           "#FF6692",
           "#B6E880",
           "#FF97FF",
           "#FECB52"
          ],
          "font": {
           "color": "#2a3f5f"
          },
          "geo": {
           "bgcolor": "white",
           "lakecolor": "white",
           "landcolor": "#E5ECF6",
           "showlakes": true,
           "showland": true,
           "subunitcolor": "white"
          },
          "hoverlabel": {
           "align": "left"
          },
          "hovermode": "closest",
          "mapbox": {
           "style": "light"
          },
          "paper_bgcolor": "white",
          "plot_bgcolor": "#E5ECF6",
          "polar": {
           "angularaxis": {
            "gridcolor": "white",
            "linecolor": "white",
            "ticks": ""
           },
           "bgcolor": "#E5ECF6",
           "radialaxis": {
            "gridcolor": "white",
            "linecolor": "white",
            "ticks": ""
           }
          },
          "scene": {
           "xaxis": {
            "backgroundcolor": "#E5ECF6",
            "gridcolor": "white",
            "gridwidth": 2,
            "linecolor": "white",
            "showbackground": true,
            "ticks": "",
            "zerolinecolor": "white"
           },
           "yaxis": {
            "backgroundcolor": "#E5ECF6",
            "gridcolor": "white",
            "gridwidth": 2,
            "linecolor": "white",
            "showbackground": true,
            "ticks": "",
            "zerolinecolor": "white"
           },
           "zaxis": {
            "backgroundcolor": "#E5ECF6",
            "gridcolor": "white",
            "gridwidth": 2,
            "linecolor": "white",
            "showbackground": true,
            "ticks": "",
            "zerolinecolor": "white"
           }
          },
          "shapedefaults": {
           "line": {
            "color": "#2a3f5f"
           }
          },
          "ternary": {
           "aaxis": {
            "gridcolor": "white",
            "linecolor": "white",
            "ticks": ""
           },
           "baxis": {
            "gridcolor": "white",
            "linecolor": "white",
            "ticks": ""
           },
           "bgcolor": "#E5ECF6",
           "caxis": {
            "gridcolor": "white",
            "linecolor": "white",
            "ticks": ""
           }
          },
          "title": {
           "x": 0.05
          },
          "xaxis": {
           "automargin": true,
           "gridcolor": "white",
           "linecolor": "white",
           "ticks": "",
           "title": {
            "standoff": 15
           },
           "zerolinecolor": "white",
           "zerolinewidth": 2
          },
          "yaxis": {
           "automargin": true,
           "gridcolor": "white",
           "linecolor": "white",
           "ticks": "",
           "title": {
            "standoff": 15
           },
           "zerolinecolor": "white",
           "zerolinewidth": 2
          }
         }
        },
        "title": {
         "text": "Health System Vulnerability Index by Region"
        },
        "xaxis": {
         "anchor": "y",
         "domain": [
          0,
          1
         ],
         "title": {
          "text": "Health System Vulnerability Index"
         }
        },
        "yaxis": {
         "anchor": "x",
         "categoryorder": "total ascending",
         "domain": [
          0,
          1
         ],
         "title": {
          "text": "Region"
         }
        }
       }
      }
     },
     "metadata": {},
     "output_type": "display_data"
    }
   ],
   "source": [
    "# Plot the health vulnerability dataframe.\n",
    "# Use the numeric 'Health System Vulnerability Index' as the marker size\n",
    "# (the previous size=\"pop\" raised an error because 'pop' doesn't exist in `health`)\n",
    "fig = px.scatter(\n",
    "\thealth,\n",
    "\tx=\"Health System Vulnerability Index\",\n",
    "\ty=\"Region\",\n",
    "\tsize=\"Health System Vulnerability Index\",\n",
    "\tcolor=\"Health System Vulnerability Index\",\n",
    "\ttitle=\"Health System Vulnerability Index by Region\",\n",
    "\tlabels={\"Category\": \"Region\", \"Health System Vulnerability Index\": \"Health System Vulnerability Index\"}\n",
    ")\n",
    "# Order categories by value for clearer display\n",
    "fig.update_layout(yaxis={'categoryorder': 'total ascending'})\n",
    "fig.show()"
   ]
  },
  {
   "cell_type": "markdown",
   "id": "955ff020",
   "metadata": {},
   "source": [
    "### Health System Vulnerability Index\n",
    "\n",
    "The **Health System Vulnerability Index** measures a region’s susceptibility to health system challenges.  \n",
    "**Scale:** 0 = low vulnerability, 1 = high vulnerability.\n",
    "\n",
    "> **Insight:**  \n",
    "> **Lango** is the most vulnerable region, while **Kampala** is the least.  \n",
    "> Prioritize interventions in high-risk areas like **Lango** to improve resilience.\n"
   ]
  },
  {
   "cell_type": "markdown",
   "id": "ad1924af",
   "metadata": {},
   "source": [
    "### Food Security"
   ]
  },
  {
   "cell_type": "code",
   "execution_count": 38,
   "id": "c5ade024",
   "metadata": {},
   "outputs": [
    {
     "data": {
      "text/html": [
       "<div>\n",
       "<style scoped>\n",
       "    .dataframe tbody tr th:only-of-type {\n",
       "        vertical-align: middle;\n",
       "    }\n",
       "\n",
       "    .dataframe tbody tr th {\n",
       "        vertical-align: top;\n",
       "    }\n",
       "\n",
       "    .dataframe thead th {\n",
       "        text-align: right;\n",
       "    }\n",
       "</style>\n",
       "<table border=\"1\" class=\"dataframe\">\n",
       "  <thead>\n",
       "    <tr style=\"text-align: right;\">\n",
       "      <th></th>\n",
       "      <th>Region</th>\n",
       "      <th>Mean Adequacy Ratio Index</th>\n",
       "      <th>Per Capita Food Consumption Index</th>\n",
       "    </tr>\n",
       "  </thead>\n",
       "  <tbody>\n",
       "    <tr>\n",
       "      <th>0</th>\n",
       "      <td>Acholi</td>\n",
       "      <td>1.0000</td>\n",
       "      <td>0.1938</td>\n",
       "    </tr>\n",
       "    <tr>\n",
       "      <th>1</th>\n",
       "      <td>Ankole</td>\n",
       "      <td>0.2435</td>\n",
       "      <td>0.7355</td>\n",
       "    </tr>\n",
       "    <tr>\n",
       "      <th>2</th>\n",
       "      <td>Buganda North</td>\n",
       "      <td>0.3440</td>\n",
       "      <td>0.4525</td>\n",
       "    </tr>\n",
       "    <tr>\n",
       "      <th>3</th>\n",
       "      <td>Buganda South</td>\n",
       "      <td>0.2186</td>\n",
       "      <td>0.4134</td>\n",
       "    </tr>\n",
       "    <tr>\n",
       "      <th>4</th>\n",
       "      <td>Bukedi</td>\n",
       "      <td>0.3210</td>\n",
       "      <td>0.4226</td>\n",
       "    </tr>\n",
       "  </tbody>\n",
       "</table>\n",
       "</div>"
      ],
      "text/plain": [
       "          Region  Mean Adequacy Ratio Index  Per Capita Food Consumption Index\n",
       "0         Acholi                     1.0000                             0.1938\n",
       "1         Ankole                     0.2435                             0.7355\n",
       "2  Buganda North                     0.3440                             0.4525\n",
       "3  Buganda South                     0.2186                             0.4134\n",
       "4         Bukedi                     0.3210                             0.4226"
      ]
     },
     "execution_count": 38,
     "metadata": {},
     "output_type": "execute_result"
    }
   ],
   "source": [
    "Food_security=merged_index[['Region','Mean Adequacy Ratio Index','Per Capita Food Consumption Index']].drop_duplicates(subset=['Region']).reset_index(drop=True)\n",
    "Food_security.head()"
   ]
  },
  {
   "cell_type": "code",
   "execution_count": 39,
   "id": "b9bc6d59",
   "metadata": {},
   "outputs": [
    {
     "data": {
      "application/vnd.plotly.v1+json": {
       "config": {
        "plotlyServerURL": "https://plot.ly"
       },
       "data": [
        {
         "customdata": [
          [
           "Acholi"
          ]
         ],
         "hovertemplate": "Region=%{customdata[0]}<br>Per Capita Food Consumption (index)=%{x}<br>Mean Adequacy Ratio (index)=%{y}<extra></extra>",
         "legendgroup": "Acholi",
         "marker": {
          "color": "#636efa",
          "line": {
           "color": "DarkSlateGrey",
           "width": 2
          },
          "opacity": 0.8,
          "size": 10,
          "symbol": "circle"
         },
         "mode": "markers",
         "name": "Acholi",
         "orientation": "v",
         "showlegend": true,
         "type": "scatter",
         "x": {
          "bdata": "kX77OnDOyD8=",
          "dtype": "f8"
         },
         "xaxis": "x",
         "y": {
          "bdata": "AAAAAAAA8D8=",
          "dtype": "f8"
         },
         "yaxis": "y"
        },
        {
         "customdata": [
          [
           "Ankole"
          ]
         ],
         "hovertemplate": "Region=%{customdata[0]}<br>Per Capita Food Consumption (index)=%{x}<br>Mean Adequacy Ratio (index)=%{y}<extra></extra>",
         "legendgroup": "Ankole",
         "marker": {
          "color": "#EF553B",
          "line": {
           "color": "DarkSlateGrey",
           "width": 2
          },
          "opacity": 0.8,
          "size": 10,
          "symbol": "circle"
         },
         "mode": "markers",
         "name": "Ankole",
         "orientation": "v",
         "showlegend": true,
         "type": "scatter",
         "x": {
          "bdata": "8KfGSzeJ5z8=",
          "dtype": "f8"
         },
         "xaxis": "x",
         "y": {
          "bdata": "XrpJDAIrzz8=",
          "dtype": "f8"
         },
         "yaxis": "y"
        },
        {
         "customdata": [
          [
           "Buganda North"
          ]
         ],
         "hovertemplate": "Region=%{customdata[0]}<br>Per Capita Food Consumption (index)=%{x}<br>Mean Adequacy Ratio (index)=%{y}<extra></extra>",
         "legendgroup": "Buganda North",
         "marker": {
          "color": "#00cc96",
          "line": {
           "color": "DarkSlateGrey",
           "width": 2
          },
          "opacity": 0.8,
          "size": 10,
          "symbol": "circle"
         },
         "mode": "markers",
         "name": "Buganda North",
         "orientation": "v",
         "showlegend": true,
         "type": "scatter",
         "x": {
          "bdata": "9ihcj8L13D8=",
          "dtype": "f8"
         },
         "xaxis": "x",
         "y": {
          "bdata": "arx0kxgE1j8=",
          "dtype": "f8"
         },
         "yaxis": "y"
        },
        {
         "customdata": [
          [
           "Buganda South"
          ]
         ],
         "hovertemplate": "Region=%{customdata[0]}<br>Per Capita Food Consumption (index)=%{x}<br>Mean Adequacy Ratio (index)=%{y}<extra></extra>",
         "legendgroup": "Buganda South",
         "marker": {
          "color": "#ab63fa",
          "line": {
           "color": "DarkSlateGrey",
           "width": 2
          },
          "opacity": 0.8,
          "size": 10,
          "symbol": "circle"
         },
         "mode": "markers",
         "name": "Buganda South",
         "orientation": "v",
         "showlegend": true,
         "type": "scatter",
         "x": {
          "bdata": "TKYKRiV12j8=",
          "dtype": "f8"
         },
         "xaxis": "x",
         "y": {
          "bdata": "s+pztRX7yz8=",
          "dtype": "f8"
         },
         "yaxis": "y"
        },
        {
         "customdata": [
          [
           "Bukedi"
          ]
         ],
         "hovertemplate": "Region=%{customdata[0]}<br>Per Capita Food Consumption (index)=%{x}<br>Mean Adequacy Ratio (index)=%{y}<extra></extra>",
         "legendgroup": "Bukedi",
         "marker": {
          "color": "#FFA15A",
          "line": {
           "color": "DarkSlateGrey",
           "width": 2
          },
          "opacity": 0.8,
          "size": 10,
          "symbol": "circle"
         },
         "mode": "markers",
         "name": "Bukedi",
         "orientation": "v",
         "showlegend": true,
         "type": "scatter",
         "x": {
          "bdata": "zojS3uAL2z8=",
          "dtype": "f8"
         },
         "xaxis": "x",
         "y": {
          "bdata": "JQaBlUOL1D8=",
          "dtype": "f8"
         },
         "yaxis": "y"
        },
        {
         "customdata": [
          [
           "Busoga"
          ]
         ],
         "hovertemplate": "Region=%{customdata[0]}<br>Per Capita Food Consumption (index)=%{x}<br>Mean Adequacy Ratio (index)=%{y}<extra></extra>",
         "legendgroup": "Busoga",
         "marker": {
          "color": "#19d3f3",
          "line": {
           "color": "DarkSlateGrey",
           "width": 2
          },
          "opacity": 0.8,
          "size": 10,
          "symbol": "circle"
         },
         "mode": "markers",
         "name": "Busoga",
         "orientation": "v",
         "showlegend": true,
         "type": "scatter",
         "x": {
          "bdata": "mggbnl4pyz8=",
          "dtype": "f8"
         },
         "xaxis": "x",
         "y": {
          "bdata": "6+I2GsBbwD8=",
          "dtype": "f8"
         },
         "yaxis": "y"
        },
        {
         "customdata": [
          [
           "Elgon"
          ]
         ],
         "hovertemplate": "Region=%{customdata[0]}<br>Per Capita Food Consumption (index)=%{x}<br>Mean Adequacy Ratio (index)=%{y}<extra></extra>",
         "legendgroup": "Elgon",
         "marker": {
          "color": "#FF6692",
          "line": {
           "color": "DarkSlateGrey",
           "width": 2
          },
          "opacity": 0.8,
          "size": 10,
          "symbol": "circle"
         },
         "mode": "markers",
         "name": "Elgon",
         "orientation": "v",
         "showlegend": true,
         "type": "scatter",
         "x": {
          "bdata": "6bevA+eMyD8=",
          "dtype": "f8"
         },
         "xaxis": "x",
         "y": {
          "bdata": "2/l+arx00z8=",
          "dtype": "f8"
         },
         "yaxis": "y"
        },
        {
         "customdata": [
          [
           "Kampala"
          ]
         ],
         "hovertemplate": "Region=%{customdata[0]}<br>Per Capita Food Consumption (index)=%{x}<br>Mean Adequacy Ratio (index)=%{y}<extra></extra>",
         "legendgroup": "Kampala",
         "marker": {
          "color": "#B6E880",
          "line": {
           "color": "DarkSlateGrey",
           "width": 2
          },
          "opacity": 0.8,
          "size": 10,
          "symbol": "circle"
         },
         "mode": "markers",
         "name": "Kampala",
         "orientation": "v",
         "showlegend": true,
         "type": "scatter",
         "x": {
          "bdata": "2c73U+Ol2z8=",
          "dtype": "f8"
         },
         "xaxis": "x",
         "y": {
          "bdata": "INJvXwfOwT8=",
          "dtype": "f8"
         },
         "yaxis": "y"
        },
        {
         "customdata": [
          [
           "Karamoja"
          ]
         ],
         "hovertemplate": "Region=%{customdata[0]}<br>Per Capita Food Consumption (index)=%{x}<br>Mean Adequacy Ratio (index)=%{y}<extra></extra>",
         "legendgroup": "Karamoja",
         "marker": {
          "color": "#FF97FF",
          "line": {
           "color": "DarkSlateGrey",
           "width": 2
          },
          "opacity": 0.8,
          "size": 10,
          "symbol": "circle"
         },
         "mode": "markers",
         "name": "Karamoja",
         "orientation": "v",
         "showlegend": true,
         "type": "scatter",
         "x": {
          "bdata": "DXGsi9to0D8=",
          "dtype": "f8"
         },
         "xaxis": "x",
         "y": {
          "bdata": "5fIf0m9f2z8=",
          "dtype": "f8"
         },
         "yaxis": "y"
        },
        {
         "customdata": [
          [
           "Kigezi"
          ]
         ],
         "hovertemplate": "Region=%{customdata[0]}<br>Per Capita Food Consumption (index)=%{x}<br>Mean Adequacy Ratio (index)=%{y}<extra></extra>",
         "legendgroup": "Kigezi",
         "marker": {
          "color": "#FECB52",
          "line": {
           "color": "DarkSlateGrey",
           "width": 2
          },
          "opacity": 0.8,
          "size": 10,
          "symbol": "circle"
         },
         "mode": "markers",
         "name": "Kigezi",
         "orientation": "v",
         "showlegend": true,
         "type": "scatter",
         "x": {
          "bdata": "AAAAAAAA8D8=",
          "dtype": "f8"
         },
         "xaxis": "x",
         "y": {
          "bdata": "Vg4tsp3v0z8=",
          "dtype": "f8"
         },
         "yaxis": "y"
        },
        {
         "customdata": [
          [
           "Lango"
          ]
         ],
         "hovertemplate": "Region=%{customdata[0]}<br>Per Capita Food Consumption (index)=%{x}<br>Mean Adequacy Ratio (index)=%{y}<extra></extra>",
         "legendgroup": "Lango",
         "marker": {
          "color": "#636efa",
          "line": {
           "color": "DarkSlateGrey",
           "width": 2
          },
          "opacity": 0.8,
          "size": 10,
          "symbol": "circle"
         },
         "mode": "markers",
         "name": "Lango",
         "orientation": "v",
         "showlegend": true,
         "type": "scatter",
         "x": {
          "bdata": "AAAAAAAAAAA=",
          "dtype": "f8"
         },
         "xaxis": "x",
         "y": {
          "bdata": "KxiV1Alo4j8=",
          "dtype": "f8"
         },
         "yaxis": "y"
        },
        {
         "customdata": [
          [
           "Teso"
          ]
         ],
         "hovertemplate": "Region=%{customdata[0]}<br>Per Capita Food Consumption (index)=%{x}<br>Mean Adequacy Ratio (index)=%{y}<extra></extra>",
         "legendgroup": "Teso",
         "marker": {
          "color": "#EF553B",
          "line": {
           "color": "DarkSlateGrey",
           "width": 2
          },
          "opacity": 0.8,
          "size": 10,
          "symbol": "circle"
         },
         "mode": "markers",
         "name": "Teso",
         "orientation": "v",
         "showlegend": true,
         "type": "scatter",
         "x": {
          "bdata": "PSzUmuYdzz8=",
          "dtype": "f8"
         },
         "xaxis": "x",
         "y": {
          "bdata": "AU2EDU+v4j8=",
          "dtype": "f8"
         },
         "yaxis": "y"
        },
        {
         "customdata": [
          [
           "Toro"
          ]
         ],
         "hovertemplate": "Region=%{customdata[0]}<br>Per Capita Food Consumption (index)=%{x}<br>Mean Adequacy Ratio (index)=%{y}<extra></extra>",
         "legendgroup": "Toro",
         "marker": {
          "color": "#00cc96",
          "line": {
           "color": "DarkSlateGrey",
           "width": 2
          },
          "opacity": 0.8,
          "size": 10,
          "symbol": "circle"
         },
         "mode": "markers",
         "name": "Toro",
         "orientation": "v",
         "showlegend": true,
         "type": "scatter",
         "x": {
          "bdata": "3SQGgZVD3z8=",
          "dtype": "f8"
         },
         "xaxis": "x",
         "y": {
          "bdata": "AAAAAAAAAAA=",
          "dtype": "f8"
         },
         "yaxis": "y"
        },
        {
         "customdata": [
          [
           "West Nile"
          ]
         ],
         "hovertemplate": "Region=%{customdata[0]}<br>Per Capita Food Consumption (index)=%{x}<br>Mean Adequacy Ratio (index)=%{y}<extra></extra>",
         "legendgroup": "West Nile",
         "marker": {
          "color": "#ab63fa",
          "line": {
           "color": "DarkSlateGrey",
           "width": 2
          },
          "opacity": 0.8,
          "size": 10,
          "symbol": "circle"
         },
         "mode": "markers",
         "name": "West Nile",
         "orientation": "v",
         "showlegend": true,
         "type": "scatter",
         "x": {
          "bdata": "oImw4emV0j8=",
          "dtype": "f8"
         },
         "xaxis": "x",
         "y": {
          "bdata": "w9MrZRni1D8=",
          "dtype": "f8"
         },
         "yaxis": "y"
        }
       ],
       "layout": {
        "legend": {
         "title": {
          "text": "Region"
         },
         "tracegroupgap": 0
        },
        "template": {
         "data": {
          "bar": [
           {
            "error_x": {
             "color": "#2a3f5f"
            },
            "error_y": {
             "color": "#2a3f5f"
            },
            "marker": {
             "line": {
              "color": "#E5ECF6",
              "width": 0.5
             },
             "pattern": {
              "fillmode": "overlay",
              "size": 10,
              "solidity": 0.2
             }
            },
            "type": "bar"
           }
          ],
          "barpolar": [
           {
            "marker": {
             "line": {
              "color": "#E5ECF6",
              "width": 0.5
             },
             "pattern": {
              "fillmode": "overlay",
              "size": 10,
              "solidity": 0.2
             }
            },
            "type": "barpolar"
           }
          ],
          "carpet": [
           {
            "aaxis": {
             "endlinecolor": "#2a3f5f",
             "gridcolor": "white",
             "linecolor": "white",
             "minorgridcolor": "white",
             "startlinecolor": "#2a3f5f"
            },
            "baxis": {
             "endlinecolor": "#2a3f5f",
             "gridcolor": "white",
             "linecolor": "white",
             "minorgridcolor": "white",
             "startlinecolor": "#2a3f5f"
            },
            "type": "carpet"
           }
          ],
          "choropleth": [
           {
            "colorbar": {
             "outlinewidth": 0,
             "ticks": ""
            },
            "type": "choropleth"
           }
          ],
          "contour": [
           {
            "colorbar": {
             "outlinewidth": 0,
             "ticks": ""
            },
            "colorscale": [
             [
              0,
              "#0d0887"
             ],
             [
              0.1111111111111111,
              "#46039f"
             ],
             [
              0.2222222222222222,
              "#7201a8"
             ],
             [
              0.3333333333333333,
              "#9c179e"
             ],
             [
              0.4444444444444444,
              "#bd3786"
             ],
             [
              0.5555555555555556,
              "#d8576b"
             ],
             [
              0.6666666666666666,
              "#ed7953"
             ],
             [
              0.7777777777777778,
              "#fb9f3a"
             ],
             [
              0.8888888888888888,
              "#fdca26"
             ],
             [
              1,
              "#f0f921"
             ]
            ],
            "type": "contour"
           }
          ],
          "contourcarpet": [
           {
            "colorbar": {
             "outlinewidth": 0,
             "ticks": ""
            },
            "type": "contourcarpet"
           }
          ],
          "heatmap": [
           {
            "colorbar": {
             "outlinewidth": 0,
             "ticks": ""
            },
            "colorscale": [
             [
              0,
              "#0d0887"
             ],
             [
              0.1111111111111111,
              "#46039f"
             ],
             [
              0.2222222222222222,
              "#7201a8"
             ],
             [
              0.3333333333333333,
              "#9c179e"
             ],
             [
              0.4444444444444444,
              "#bd3786"
             ],
             [
              0.5555555555555556,
              "#d8576b"
             ],
             [
              0.6666666666666666,
              "#ed7953"
             ],
             [
              0.7777777777777778,
              "#fb9f3a"
             ],
             [
              0.8888888888888888,
              "#fdca26"
             ],
             [
              1,
              "#f0f921"
             ]
            ],
            "type": "heatmap"
           }
          ],
          "histogram": [
           {
            "marker": {
             "pattern": {
              "fillmode": "overlay",
              "size": 10,
              "solidity": 0.2
             }
            },
            "type": "histogram"
           }
          ],
          "histogram2d": [
           {
            "colorbar": {
             "outlinewidth": 0,
             "ticks": ""
            },
            "colorscale": [
             [
              0,
              "#0d0887"
             ],
             [
              0.1111111111111111,
              "#46039f"
             ],
             [
              0.2222222222222222,
              "#7201a8"
             ],
             [
              0.3333333333333333,
              "#9c179e"
             ],
             [
              0.4444444444444444,
              "#bd3786"
             ],
             [
              0.5555555555555556,
              "#d8576b"
             ],
             [
              0.6666666666666666,
              "#ed7953"
             ],
             [
              0.7777777777777778,
              "#fb9f3a"
             ],
             [
              0.8888888888888888,
              "#fdca26"
             ],
             [
              1,
              "#f0f921"
             ]
            ],
            "type": "histogram2d"
           }
          ],
          "histogram2dcontour": [
           {
            "colorbar": {
             "outlinewidth": 0,
             "ticks": ""
            },
            "colorscale": [
             [
              0,
              "#0d0887"
             ],
             [
              0.1111111111111111,
              "#46039f"
             ],
             [
              0.2222222222222222,
              "#7201a8"
             ],
             [
              0.3333333333333333,
              "#9c179e"
             ],
             [
              0.4444444444444444,
              "#bd3786"
             ],
             [
              0.5555555555555556,
              "#d8576b"
             ],
             [
              0.6666666666666666,
              "#ed7953"
             ],
             [
              0.7777777777777778,
              "#fb9f3a"
             ],
             [
              0.8888888888888888,
              "#fdca26"
             ],
             [
              1,
              "#f0f921"
             ]
            ],
            "type": "histogram2dcontour"
           }
          ],
          "mesh3d": [
           {
            "colorbar": {
             "outlinewidth": 0,
             "ticks": ""
            },
            "type": "mesh3d"
           }
          ],
          "parcoords": [
           {
            "line": {
             "colorbar": {
              "outlinewidth": 0,
              "ticks": ""
             }
            },
            "type": "parcoords"
           }
          ],
          "pie": [
           {
            "automargin": true,
            "type": "pie"
           }
          ],
          "scatter": [
           {
            "fillpattern": {
             "fillmode": "overlay",
             "size": 10,
             "solidity": 0.2
            },
            "type": "scatter"
           }
          ],
          "scatter3d": [
           {
            "line": {
             "colorbar": {
              "outlinewidth": 0,
              "ticks": ""
             }
            },
            "marker": {
             "colorbar": {
              "outlinewidth": 0,
              "ticks": ""
             }
            },
            "type": "scatter3d"
           }
          ],
          "scattercarpet": [
           {
            "marker": {
             "colorbar": {
              "outlinewidth": 0,
              "ticks": ""
             }
            },
            "type": "scattercarpet"
           }
          ],
          "scattergeo": [
           {
            "marker": {
             "colorbar": {
              "outlinewidth": 0,
              "ticks": ""
             }
            },
            "type": "scattergeo"
           }
          ],
          "scattergl": [
           {
            "marker": {
             "colorbar": {
              "outlinewidth": 0,
              "ticks": ""
             }
            },
            "type": "scattergl"
           }
          ],
          "scattermap": [
           {
            "marker": {
             "colorbar": {
              "outlinewidth": 0,
              "ticks": ""
             }
            },
            "type": "scattermap"
           }
          ],
          "scattermapbox": [
           {
            "marker": {
             "colorbar": {
              "outlinewidth": 0,
              "ticks": ""
             }
            },
            "type": "scattermapbox"
           }
          ],
          "scatterpolar": [
           {
            "marker": {
             "colorbar": {
              "outlinewidth": 0,
              "ticks": ""
             }
            },
            "type": "scatterpolar"
           }
          ],
          "scatterpolargl": [
           {
            "marker": {
             "colorbar": {
              "outlinewidth": 0,
              "ticks": ""
             }
            },
            "type": "scatterpolargl"
           }
          ],
          "scatterternary": [
           {
            "marker": {
             "colorbar": {
              "outlinewidth": 0,
              "ticks": ""
             }
            },
            "type": "scatterternary"
           }
          ],
          "surface": [
           {
            "colorbar": {
             "outlinewidth": 0,
             "ticks": ""
            },
            "colorscale": [
             [
              0,
              "#0d0887"
             ],
             [
              0.1111111111111111,
              "#46039f"
             ],
             [
              0.2222222222222222,
              "#7201a8"
             ],
             [
              0.3333333333333333,
              "#9c179e"
             ],
             [
              0.4444444444444444,
              "#bd3786"
             ],
             [
              0.5555555555555556,
              "#d8576b"
             ],
             [
              0.6666666666666666,
              "#ed7953"
             ],
             [
              0.7777777777777778,
              "#fb9f3a"
             ],
             [
              0.8888888888888888,
              "#fdca26"
             ],
             [
              1,
              "#f0f921"
             ]
            ],
            "type": "surface"
           }
          ],
          "table": [
           {
            "cells": {
             "fill": {
              "color": "#EBF0F8"
             },
             "line": {
              "color": "white"
             }
            },
            "header": {
             "fill": {
              "color": "#C8D4E3"
             },
             "line": {
              "color": "white"
             }
            },
            "type": "table"
           }
          ]
         },
         "layout": {
          "annotationdefaults": {
           "arrowcolor": "#2a3f5f",
           "arrowhead": 0,
           "arrowwidth": 1
          },
          "autotypenumbers": "strict",
          "coloraxis": {
           "colorbar": {
            "outlinewidth": 0,
            "ticks": ""
           }
          },
          "colorscale": {
           "diverging": [
            [
             0,
             "#8e0152"
            ],
            [
             0.1,
             "#c51b7d"
            ],
            [
             0.2,
             "#de77ae"
            ],
            [
             0.3,
             "#f1b6da"
            ],
            [
             0.4,
             "#fde0ef"
            ],
            [
             0.5,
             "#f7f7f7"
            ],
            [
             0.6,
             "#e6f5d0"
            ],
            [
             0.7,
             "#b8e186"
            ],
            [
             0.8,
             "#7fbc41"
            ],
            [
             0.9,
             "#4d9221"
            ],
            [
             1,
             "#276419"
            ]
           ],
           "sequential": [
            [
             0,
             "#0d0887"
            ],
            [
             0.1111111111111111,
             "#46039f"
            ],
            [
             0.2222222222222222,
             "#7201a8"
            ],
            [
             0.3333333333333333,
             "#9c179e"
            ],
            [
             0.4444444444444444,
             "#bd3786"
            ],
            [
             0.5555555555555556,
             "#d8576b"
            ],
            [
             0.6666666666666666,
             "#ed7953"
            ],
            [
             0.7777777777777778,
             "#fb9f3a"
            ],
            [
             0.8888888888888888,
             "#fdca26"
            ],
            [
             1,
             "#f0f921"
            ]
           ],
           "sequentialminus": [
            [
             0,
             "#0d0887"
            ],
            [
             0.1111111111111111,
             "#46039f"
            ],
            [
             0.2222222222222222,
             "#7201a8"
            ],
            [
             0.3333333333333333,
             "#9c179e"
            ],
            [
             0.4444444444444444,
             "#bd3786"
            ],
            [
             0.5555555555555556,
             "#d8576b"
            ],
            [
             0.6666666666666666,
             "#ed7953"
            ],
            [
             0.7777777777777778,
             "#fb9f3a"
            ],
            [
             0.8888888888888888,
             "#fdca26"
            ],
            [
             1,
             "#f0f921"
            ]
           ]
          },
          "colorway": [
           "#636efa",
           "#EF553B",
           "#00cc96",
           "#ab63fa",
           "#FFA15A",
           "#19d3f3",
           "#FF6692",
           "#B6E880",
           "#FF97FF",
           "#FECB52"
          ],
          "font": {
           "color": "#2a3f5f"
          },
          "geo": {
           "bgcolor": "white",
           "lakecolor": "white",
           "landcolor": "#E5ECF6",
           "showlakes": true,
           "showland": true,
           "subunitcolor": "white"
          },
          "hoverlabel": {
           "align": "left"
          },
          "hovermode": "closest",
          "mapbox": {
           "style": "light"
          },
          "paper_bgcolor": "white",
          "plot_bgcolor": "#E5ECF6",
          "polar": {
           "angularaxis": {
            "gridcolor": "white",
            "linecolor": "white",
            "ticks": ""
           },
           "bgcolor": "#E5ECF6",
           "radialaxis": {
            "gridcolor": "white",
            "linecolor": "white",
            "ticks": ""
           }
          },
          "scene": {
           "xaxis": {
            "backgroundcolor": "#E5ECF6",
            "gridcolor": "white",
            "gridwidth": 2,
            "linecolor": "white",
            "showbackground": true,
            "ticks": "",
            "zerolinecolor": "white"
           },
           "yaxis": {
            "backgroundcolor": "#E5ECF6",
            "gridcolor": "white",
            "gridwidth": 2,
            "linecolor": "white",
            "showbackground": true,
            "ticks": "",
            "zerolinecolor": "white"
           },
           "zaxis": {
            "backgroundcolor": "#E5ECF6",
            "gridcolor": "white",
            "gridwidth": 2,
            "linecolor": "white",
            "showbackground": true,
            "ticks": "",
            "zerolinecolor": "white"
           }
          },
          "shapedefaults": {
           "line": {
            "color": "#2a3f5f"
           }
          },
          "ternary": {
           "aaxis": {
            "gridcolor": "white",
            "linecolor": "white",
            "ticks": ""
           },
           "baxis": {
            "gridcolor": "white",
            "linecolor": "white",
            "ticks": ""
           },
           "bgcolor": "#E5ECF6",
           "caxis": {
            "gridcolor": "white",
            "linecolor": "white",
            "ticks": ""
           }
          },
          "title": {
           "x": 0.05
          },
          "xaxis": {
           "automargin": true,
           "gridcolor": "white",
           "linecolor": "white",
           "ticks": "",
           "title": {
            "standoff": 15
           },
           "zerolinecolor": "white",
           "zerolinewidth": 2
          },
          "yaxis": {
           "automargin": true,
           "gridcolor": "white",
           "linecolor": "white",
           "ticks": "",
           "title": {
            "standoff": 15
           },
           "zerolinecolor": "white",
           "zerolinewidth": 2
          }
         }
        },
        "title": {
         "text": "Nutrition Adequacy vs Food Consumption by Region"
        },
        "xaxis": {
         "anchor": "y",
         "domain": [
          0,
          1
         ],
         "title": {
          "text": "Per Capita Food Consumption (index)"
         }
        },
        "yaxis": {
         "anchor": "x",
         "domain": [
          0,
          1
         ],
         "title": {
          "text": "Mean Adequacy Ratio (index)"
         }
        }
       }
      }
     },
     "metadata": {},
     "output_type": "display_data"
    }
   ],
   "source": [
    "# Create scatter plot using the Food_security dataframe and correct column names\n",
    "fig = px.scatter(\n",
    "    Food_security,\n",
    "    x='Per Capita Food Consumption Index',\n",
    "    y='Mean Adequacy Ratio Index',\n",
    "    color='Region',\n",
    "    hover_data=['Region'],\n",
    "    labels={\n",
    "        'Per Capita Food Consumption Index': 'Per Capita Food Consumption (index)',\n",
    "        'Mean Adequacy Ratio Index': 'Mean Adequacy Ratio (index)',\n",
    "        'Category': 'Region'\n",
    "    },\n",
    "    title='Nutrition Adequacy vs Food Consumption by Region'\n",
    ")\n",
    "fig.update_traces(marker=dict(size=10, opacity=0.8, line=dict(width=2, color='DarkSlateGrey')))\n",
    "fig.show()\n"
   ]
  },
  {
   "cell_type": "markdown",
   "id": "44a28c82",
   "metadata": {},
   "source": [
    "### Nutrition Adequacy vs Food Consumption by Region  \n",
    "\n",
    "This chart compares **per capita food consumption** with the **mean adequacy ratio of nutrients** across regions.  \n",
    "- Regions higher on the chart have **better nutrient adequacy**, even if food consumption is low.  \n",
    "- Regions further right show **higher food consumption**, though this does not always guarantee adequate nutrition.  \n",
    "\n",
    "> **Insight:**  \n",
    "> Some regions consume more food but still have low nutrient adequacy, highlighting the need for **diverse diets and nutrition-focused interventions**.  \n"
   ]
  },
  {
   "cell_type": "markdown",
   "id": "021b1300",
   "metadata": {},
   "source": [
    "## Climate Change Vulnerability index"
   ]
  },
  {
   "cell_type": "code",
   "execution_count": 40,
   "id": "a3e13d8e",
   "metadata": {},
   "outputs": [
    {
     "data": {
      "text/html": [
       "<div>\n",
       "<style scoped>\n",
       "    .dataframe tbody tr th:only-of-type {\n",
       "        vertical-align: middle;\n",
       "    }\n",
       "\n",
       "    .dataframe tbody tr th {\n",
       "        vertical-align: top;\n",
       "    }\n",
       "\n",
       "    .dataframe thead th {\n",
       "        text-align: right;\n",
       "    }\n",
       "</style>\n",
       "<table border=\"1\" class=\"dataframe\">\n",
       "  <thead>\n",
       "    <tr style=\"text-align: right;\">\n",
       "      <th></th>\n",
       "      <th>Region</th>\n",
       "      <th>Vulnerability to Climate Change Index</th>\n",
       "    </tr>\n",
       "  </thead>\n",
       "  <tbody>\n",
       "    <tr>\n",
       "      <th>0</th>\n",
       "      <td>Kigezi</td>\n",
       "      <td>1.0000</td>\n",
       "    </tr>\n",
       "    <tr>\n",
       "      <th>1</th>\n",
       "      <td>Busoga</td>\n",
       "      <td>0.9336</td>\n",
       "    </tr>\n",
       "    <tr>\n",
       "      <th>2</th>\n",
       "      <td>Ankole</td>\n",
       "      <td>0.8560</td>\n",
       "    </tr>\n",
       "    <tr>\n",
       "      <th>3</th>\n",
       "      <td>Karamoja</td>\n",
       "      <td>0.7933</td>\n",
       "    </tr>\n",
       "    <tr>\n",
       "      <th>4</th>\n",
       "      <td>West Nile</td>\n",
       "      <td>0.7678</td>\n",
       "    </tr>\n",
       "  </tbody>\n",
       "</table>\n",
       "</div>"
      ],
      "text/plain": [
       "      Region  Vulnerability to Climate Change Index\n",
       "0     Kigezi                                 1.0000\n",
       "1     Busoga                                 0.9336\n",
       "2     Ankole                                 0.8560\n",
       "3   Karamoja                                 0.7933\n",
       "4  West Nile                                 0.7678"
      ]
     },
     "execution_count": 40,
     "metadata": {},
     "output_type": "execute_result"
    }
   ],
   "source": [
    "composite=merged_index[['Region','Vulnerability to Climate Change Index']].sort_values(by='Vulnerability to Climate Change Index', ascending=False).drop_duplicates(subset=['Region']).reset_index(drop=True)\n",
    "composite.head()"
   ]
  },
  {
   "cell_type": "code",
   "execution_count": 41,
   "id": "1c276aaa",
   "metadata": {},
   "outputs": [
    {
     "data": {
      "application/vnd.plotly.v1+json": {
       "config": {
        "plotlyServerURL": "https://plot.ly"
       },
       "data": [
        {
         "hovertemplate": "Region=%{x}<br>Vulnerability to Climate Change Index=%{marker.color}<extra></extra>",
         "legendgroup": "",
         "marker": {
          "color": {
           "bdata": "AAAAAAAA8D+OdXEbDeDtPzEIrBxaZOs/bVZ9rrZi6T82zTtO0ZHoP7snDwu1puc/XrpJDAIr5T80orQ3+MLkP9zXgXNGlOA/+1xtxf6y3z9TliGOdXHfP2sr9pfdk8c/AG+BBMWPoT8AAAAAAAAAAA==",
           "dtype": "f8"
          },
          "coloraxis": "coloraxis",
          "pattern": {
           "shape": ""
          }
         },
         "name": "",
         "orientation": "v",
         "showlegend": false,
         "textposition": "auto",
         "type": "bar",
         "x": [
          "Kigezi",
          "Busoga",
          "Ankole",
          "Karamoja",
          "West Nile",
          "Acholi",
          "Buganda North",
          "Toro",
          "Buganda South",
          "Bukedi",
          "Lango",
          "Teso",
          "Kampala",
          "Elgon"
         ],
         "xaxis": "x",
         "y": {
          "bdata": "AAAAAAAA8D+OdXEbDeDtPzEIrBxaZOs/bVZ9rrZi6T82zTtO0ZHoP7snDwu1puc/XrpJDAIr5T80orQ3+MLkP9zXgXNGlOA/+1xtxf6y3z9TliGOdXHfP2sr9pfdk8c/AG+BBMWPoT8AAAAAAAAAAA==",
          "dtype": "f8"
         },
         "yaxis": "y"
        }
       ],
       "layout": {
        "barmode": "relative",
        "coloraxis": {
         "colorbar": {
          "title": {
           "text": "Vulnerability Index"
          }
         },
         "colorscale": [
          [
           0,
           "#0d0887"
          ],
          [
           0.1111111111111111,
           "#46039f"
          ],
          [
           0.2222222222222222,
           "#7201a8"
          ],
          [
           0.3333333333333333,
           "#9c179e"
          ],
          [
           0.4444444444444444,
           "#bd3786"
          ],
          [
           0.5555555555555556,
           "#d8576b"
          ],
          [
           0.6666666666666666,
           "#ed7953"
          ],
          [
           0.7777777777777778,
           "#fb9f3a"
          ],
          [
           0.8888888888888888,
           "#fdca26"
          ],
          [
           1,
           "#f0f921"
          ]
         ]
        },
        "legend": {
         "tracegroupgap": 0
        },
        "template": {
         "data": {
          "bar": [
           {
            "error_x": {
             "color": "#2a3f5f"
            },
            "error_y": {
             "color": "#2a3f5f"
            },
            "marker": {
             "line": {
              "color": "#E5ECF6",
              "width": 0.5
             },
             "pattern": {
              "fillmode": "overlay",
              "size": 10,
              "solidity": 0.2
             }
            },
            "type": "bar"
           }
          ],
          "barpolar": [
           {
            "marker": {
             "line": {
              "color": "#E5ECF6",
              "width": 0.5
             },
             "pattern": {
              "fillmode": "overlay",
              "size": 10,
              "solidity": 0.2
             }
            },
            "type": "barpolar"
           }
          ],
          "carpet": [
           {
            "aaxis": {
             "endlinecolor": "#2a3f5f",
             "gridcolor": "white",
             "linecolor": "white",
             "minorgridcolor": "white",
             "startlinecolor": "#2a3f5f"
            },
            "baxis": {
             "endlinecolor": "#2a3f5f",
             "gridcolor": "white",
             "linecolor": "white",
             "minorgridcolor": "white",
             "startlinecolor": "#2a3f5f"
            },
            "type": "carpet"
           }
          ],
          "choropleth": [
           {
            "colorbar": {
             "outlinewidth": 0,
             "ticks": ""
            },
            "type": "choropleth"
           }
          ],
          "contour": [
           {
            "colorbar": {
             "outlinewidth": 0,
             "ticks": ""
            },
            "colorscale": [
             [
              0,
              "#0d0887"
             ],
             [
              0.1111111111111111,
              "#46039f"
             ],
             [
              0.2222222222222222,
              "#7201a8"
             ],
             [
              0.3333333333333333,
              "#9c179e"
             ],
             [
              0.4444444444444444,
              "#bd3786"
             ],
             [
              0.5555555555555556,
              "#d8576b"
             ],
             [
              0.6666666666666666,
              "#ed7953"
             ],
             [
              0.7777777777777778,
              "#fb9f3a"
             ],
             [
              0.8888888888888888,
              "#fdca26"
             ],
             [
              1,
              "#f0f921"
             ]
            ],
            "type": "contour"
           }
          ],
          "contourcarpet": [
           {
            "colorbar": {
             "outlinewidth": 0,
             "ticks": ""
            },
            "type": "contourcarpet"
           }
          ],
          "heatmap": [
           {
            "colorbar": {
             "outlinewidth": 0,
             "ticks": ""
            },
            "colorscale": [
             [
              0,
              "#0d0887"
             ],
             [
              0.1111111111111111,
              "#46039f"
             ],
             [
              0.2222222222222222,
              "#7201a8"
             ],
             [
              0.3333333333333333,
              "#9c179e"
             ],
             [
              0.4444444444444444,
              "#bd3786"
             ],
             [
              0.5555555555555556,
              "#d8576b"
             ],
             [
              0.6666666666666666,
              "#ed7953"
             ],
             [
              0.7777777777777778,
              "#fb9f3a"
             ],
             [
              0.8888888888888888,
              "#fdca26"
             ],
             [
              1,
              "#f0f921"
             ]
            ],
            "type": "heatmap"
           }
          ],
          "histogram": [
           {
            "marker": {
             "pattern": {
              "fillmode": "overlay",
              "size": 10,
              "solidity": 0.2
             }
            },
            "type": "histogram"
           }
          ],
          "histogram2d": [
           {
            "colorbar": {
             "outlinewidth": 0,
             "ticks": ""
            },
            "colorscale": [
             [
              0,
              "#0d0887"
             ],
             [
              0.1111111111111111,
              "#46039f"
             ],
             [
              0.2222222222222222,
              "#7201a8"
             ],
             [
              0.3333333333333333,
              "#9c179e"
             ],
             [
              0.4444444444444444,
              "#bd3786"
             ],
             [
              0.5555555555555556,
              "#d8576b"
             ],
             [
              0.6666666666666666,
              "#ed7953"
             ],
             [
              0.7777777777777778,
              "#fb9f3a"
             ],
             [
              0.8888888888888888,
              "#fdca26"
             ],
             [
              1,
              "#f0f921"
             ]
            ],
            "type": "histogram2d"
           }
          ],
          "histogram2dcontour": [
           {
            "colorbar": {
             "outlinewidth": 0,
             "ticks": ""
            },
            "colorscale": [
             [
              0,
              "#0d0887"
             ],
             [
              0.1111111111111111,
              "#46039f"
             ],
             [
              0.2222222222222222,
              "#7201a8"
             ],
             [
              0.3333333333333333,
              "#9c179e"
             ],
             [
              0.4444444444444444,
              "#bd3786"
             ],
             [
              0.5555555555555556,
              "#d8576b"
             ],
             [
              0.6666666666666666,
              "#ed7953"
             ],
             [
              0.7777777777777778,
              "#fb9f3a"
             ],
             [
              0.8888888888888888,
              "#fdca26"
             ],
             [
              1,
              "#f0f921"
             ]
            ],
            "type": "histogram2dcontour"
           }
          ],
          "mesh3d": [
           {
            "colorbar": {
             "outlinewidth": 0,
             "ticks": ""
            },
            "type": "mesh3d"
           }
          ],
          "parcoords": [
           {
            "line": {
             "colorbar": {
              "outlinewidth": 0,
              "ticks": ""
             }
            },
            "type": "parcoords"
           }
          ],
          "pie": [
           {
            "automargin": true,
            "type": "pie"
           }
          ],
          "scatter": [
           {
            "fillpattern": {
             "fillmode": "overlay",
             "size": 10,
             "solidity": 0.2
            },
            "type": "scatter"
           }
          ],
          "scatter3d": [
           {
            "line": {
             "colorbar": {
              "outlinewidth": 0,
              "ticks": ""
             }
            },
            "marker": {
             "colorbar": {
              "outlinewidth": 0,
              "ticks": ""
             }
            },
            "type": "scatter3d"
           }
          ],
          "scattercarpet": [
           {
            "marker": {
             "colorbar": {
              "outlinewidth": 0,
              "ticks": ""
             }
            },
            "type": "scattercarpet"
           }
          ],
          "scattergeo": [
           {
            "marker": {
             "colorbar": {
              "outlinewidth": 0,
              "ticks": ""
             }
            },
            "type": "scattergeo"
           }
          ],
          "scattergl": [
           {
            "marker": {
             "colorbar": {
              "outlinewidth": 0,
              "ticks": ""
             }
            },
            "type": "scattergl"
           }
          ],
          "scattermap": [
           {
            "marker": {
             "colorbar": {
              "outlinewidth": 0,
              "ticks": ""
             }
            },
            "type": "scattermap"
           }
          ],
          "scattermapbox": [
           {
            "marker": {
             "colorbar": {
              "outlinewidth": 0,
              "ticks": ""
             }
            },
            "type": "scattermapbox"
           }
          ],
          "scatterpolar": [
           {
            "marker": {
             "colorbar": {
              "outlinewidth": 0,
              "ticks": ""
             }
            },
            "type": "scatterpolar"
           }
          ],
          "scatterpolargl": [
           {
            "marker": {
             "colorbar": {
              "outlinewidth": 0,
              "ticks": ""
             }
            },
            "type": "scatterpolargl"
           }
          ],
          "scatterternary": [
           {
            "marker": {
             "colorbar": {
              "outlinewidth": 0,
              "ticks": ""
             }
            },
            "type": "scatterternary"
           }
          ],
          "surface": [
           {
            "colorbar": {
             "outlinewidth": 0,
             "ticks": ""
            },
            "colorscale": [
             [
              0,
              "#0d0887"
             ],
             [
              0.1111111111111111,
              "#46039f"
             ],
             [
              0.2222222222222222,
              "#7201a8"
             ],
             [
              0.3333333333333333,
              "#9c179e"
             ],
             [
              0.4444444444444444,
              "#bd3786"
             ],
             [
              0.5555555555555556,
              "#d8576b"
             ],
             [
              0.6666666666666666,
              "#ed7953"
             ],
             [
              0.7777777777777778,
              "#fb9f3a"
             ],
             [
              0.8888888888888888,
              "#fdca26"
             ],
             [
              1,
              "#f0f921"
             ]
            ],
            "type": "surface"
           }
          ],
          "table": [
           {
            "cells": {
             "fill": {
              "color": "#EBF0F8"
             },
             "line": {
              "color": "white"
             }
            },
            "header": {
             "fill": {
              "color": "#C8D4E3"
             },
             "line": {
              "color": "white"
             }
            },
            "type": "table"
           }
          ]
         },
         "layout": {
          "annotationdefaults": {
           "arrowcolor": "#2a3f5f",
           "arrowhead": 0,
           "arrowwidth": 1
          },
          "autotypenumbers": "strict",
          "coloraxis": {
           "colorbar": {
            "outlinewidth": 0,
            "ticks": ""
           }
          },
          "colorscale": {
           "diverging": [
            [
             0,
             "#8e0152"
            ],
            [
             0.1,
             "#c51b7d"
            ],
            [
             0.2,
             "#de77ae"
            ],
            [
             0.3,
             "#f1b6da"
            ],
            [
             0.4,
             "#fde0ef"
            ],
            [
             0.5,
             "#f7f7f7"
            ],
            [
             0.6,
             "#e6f5d0"
            ],
            [
             0.7,
             "#b8e186"
            ],
            [
             0.8,
             "#7fbc41"
            ],
            [
             0.9,
             "#4d9221"
            ],
            [
             1,
             "#276419"
            ]
           ],
           "sequential": [
            [
             0,
             "#0d0887"
            ],
            [
             0.1111111111111111,
             "#46039f"
            ],
            [
             0.2222222222222222,
             "#7201a8"
            ],
            [
             0.3333333333333333,
             "#9c179e"
            ],
            [
             0.4444444444444444,
             "#bd3786"
            ],
            [
             0.5555555555555556,
             "#d8576b"
            ],
            [
             0.6666666666666666,
             "#ed7953"
            ],
            [
             0.7777777777777778,
             "#fb9f3a"
            ],
            [
             0.8888888888888888,
             "#fdca26"
            ],
            [
             1,
             "#f0f921"
            ]
           ],
           "sequentialminus": [
            [
             0,
             "#0d0887"
            ],
            [
             0.1111111111111111,
             "#46039f"
            ],
            [
             0.2222222222222222,
             "#7201a8"
            ],
            [
             0.3333333333333333,
             "#9c179e"
            ],
            [
             0.4444444444444444,
             "#bd3786"
            ],
            [
             0.5555555555555556,
             "#d8576b"
            ],
            [
             0.6666666666666666,
             "#ed7953"
            ],
            [
             0.7777777777777778,
             "#fb9f3a"
            ],
            [
             0.8888888888888888,
             "#fdca26"
            ],
            [
             1,
             "#f0f921"
            ]
           ]
          },
          "colorway": [
           "#636efa",
           "#EF553B",
           "#00cc96",
           "#ab63fa",
           "#FFA15A",
           "#19d3f3",
           "#FF6692",
           "#B6E880",
           "#FF97FF",
           "#FECB52"
          ],
          "font": {
           "color": "#2a3f5f"
          },
          "geo": {
           "bgcolor": "white",
           "lakecolor": "white",
           "landcolor": "#E5ECF6",
           "showlakes": true,
           "showland": true,
           "subunitcolor": "white"
          },
          "hoverlabel": {
           "align": "left"
          },
          "hovermode": "closest",
          "mapbox": {
           "style": "light"
          },
          "paper_bgcolor": "white",
          "plot_bgcolor": "#E5ECF6",
          "polar": {
           "angularaxis": {
            "gridcolor": "white",
            "linecolor": "white",
            "ticks": ""
           },
           "bgcolor": "#E5ECF6",
           "radialaxis": {
            "gridcolor": "white",
            "linecolor": "white",
            "ticks": ""
           }
          },
          "scene": {
           "xaxis": {
            "backgroundcolor": "#E5ECF6",
            "gridcolor": "white",
            "gridwidth": 2,
            "linecolor": "white",
            "showbackground": true,
            "ticks": "",
            "zerolinecolor": "white"
           },
           "yaxis": {
            "backgroundcolor": "#E5ECF6",
            "gridcolor": "white",
            "gridwidth": 2,
            "linecolor": "white",
            "showbackground": true,
            "ticks": "",
            "zerolinecolor": "white"
           },
           "zaxis": {
            "backgroundcolor": "#E5ECF6",
            "gridcolor": "white",
            "gridwidth": 2,
            "linecolor": "white",
            "showbackground": true,
            "ticks": "",
            "zerolinecolor": "white"
           }
          },
          "shapedefaults": {
           "line": {
            "color": "#2a3f5f"
           }
          },
          "ternary": {
           "aaxis": {
            "gridcolor": "white",
            "linecolor": "white",
            "ticks": ""
           },
           "baxis": {
            "gridcolor": "white",
            "linecolor": "white",
            "ticks": ""
           },
           "bgcolor": "#E5ECF6",
           "caxis": {
            "gridcolor": "white",
            "linecolor": "white",
            "ticks": ""
           }
          },
          "title": {
           "x": 0.05
          },
          "xaxis": {
           "automargin": true,
           "gridcolor": "white",
           "linecolor": "white",
           "ticks": "",
           "title": {
            "standoff": 15
           },
           "zerolinecolor": "white",
           "zerolinewidth": 2
          },
          "yaxis": {
           "automargin": true,
           "gridcolor": "white",
           "linecolor": "white",
           "ticks": "",
           "title": {
            "standoff": 15
           },
           "zerolinecolor": "white",
           "zerolinewidth": 2
          }
         }
        },
        "title": {
         "text": "Vulnerability to Climate Change Index by Region"
        },
        "xaxis": {
         "anchor": "y",
         "domain": [
          0,
          1
         ],
         "tickangle": -45,
         "title": {
          "text": "Region"
         }
        },
        "yaxis": {
         "anchor": "x",
         "domain": [
          0,
          1
         ],
         "title": {
          "text": "Vulnerability to Climate Change Index"
         }
        }
       }
      }
     },
     "metadata": {},
     "output_type": "display_data"
    }
   ],
   "source": [
    "# Bar Composite Vulnerability by Category\n",
    "fig = px.bar(\n",
    "    composite,\n",
    "    x=\"Region\",  # Regions (Acholi, Buganda, etc.)\n",
    "    y=\"Vulnerability to Climate Change Index\",  # Value to plot\n",
    "    title=\"Vulnerability to Climate Change Index by Region\",\n",
    "    color=\"Vulnerability to Climate Change Index\",  # Color scale based on value\n",
    "    #color_continuous_scale=\"Reds\"\n",
    ")\n",
    "\n",
    "# Rotate x-axis labels for readability\n",
    "fig.update_layout(xaxis_tickangle=-45,\n",
    "                  coloraxis_colorbar=dict(title=\"Vulnerability Index\"))\n"
   ]
  },
  {
   "cell_type": "markdown",
   "id": "6af33e4b",
   "metadata": {},
   "source": [
    "### Vulnerability to Climate Change Index by Region  \n",
    "\n",
    "This chart shows how different regions are exposed to the risks of **climate change**, with values ranging from 0 (low vulnerability) to 1 (high vulnerability).  \n",
    "\n",
    "- **Kigezi, Busoga, and Ankole** show the **highest vulnerability**, meaning they face the greatest climate risks.  \n",
    "- **Kampala and Elgon** are the **least vulnerable**, but resilience strategies remain important.  \n",
    "\n",
    "> **Insight:**  \n",
    "> Regions like **Kigezi and Busoga** need urgent climate adaptation measures, while lower-risk regions should focus on sustaining their resilience.  \n"
   ]
  }
 ],
 "metadata": {
  "kernelspec": {
   "display_name": "sylvan",
   "language": "python",
   "name": "python3"
  },
  "language_info": {
   "codemirror_mode": {
    "name": "ipython",
    "version": 3
   },
   "file_extension": ".py",
   "mimetype": "text/x-python",
   "name": "python",
   "nbconvert_exporter": "python",
   "pygments_lexer": "ipython3",
   "version": "3.12.3"
  }
 },
 "nbformat": 4,
 "nbformat_minor": 5
}
